{
 "cells": [
  {
   "cell_type": "markdown",
   "id": "cf27f0fb",
   "metadata": {},
   "source": [
    "# Data analyse CLL"
   ]
  },
  {
   "cell_type": "markdown",
   "id": "69dc6478",
   "metadata": {},
   "source": [
    "#### Definitions\n",
    "CTL = reference simulation without turbines, the control run\\\n",
    "WFP = wind farm parametrization"
   ]
  },
  {
   "cell_type": "markdown",
   "id": "3e86aefd",
   "metadata": {},
   "source": [
    "#### Packages"
   ]
  },
  {
   "cell_type": "code",
   "execution_count": null,
   "id": "d6ca9dc6",
   "metadata": {},
   "outputs": [],
   "source": [
    "#Import packages\n",
    "import cartopy.crs as ccrs\n",
    "import cartopy.feature as cfeature\n",
    "import matplotlib.pyplot as plt\n",
    "import numpy as np\n",
    "import xarray as xr\n",
    "import tarfile\n",
    "import io\n",
    "import csv\n",
    "import pandas as pd\n",
    "# import netCDF4\n",
    "# import h5netcdf\n",
    "# import glob"
   ]
  },
  {
   "cell_type": "markdown",
   "id": "8d9c8dbc",
   "metadata": {},
   "source": [
    "#### Functions"
   ]
  },
  {
   "cell_type": "code",
   "execution_count": null,
   "id": "2bb16535",
   "metadata": {},
   "outputs": [],
   "source": [
    "#Function to read (csv) data file\n",
    "def read_data(filename):\n",
    "    headers = ['lon','lat','type','r','z']\n",
    "    df = pd.read_csv(filename,skiprows=1,names= headers,delim_whitespace=True)\n",
    "    return df"
   ]
  },
  {
   "cell_type": "code",
   "execution_count": null,
   "id": "6f38bb8c",
   "metadata": {},
   "outputs": [],
   "source": [
    "#Function to read (nc) data file\n",
    "def nc_read(directory):\n",
    "    data = xr.open_mfdataset(directory)\n",
    "    return data"
   ]
  },
  {
   "cell_type": "code",
   "execution_count": null,
   "id": "a36d4254",
   "metadata": {},
   "outputs": [],
   "source": [
    "#Read data from the coordinates of the wind turbines\n",
    "turbines = read_data('E:\\data\\wind_turbine_coordinates_2020_2050.tab')"
   ]
  },
  {
   "cell_type": "code",
   "execution_count": null,
   "id": "40b0b586",
   "metadata": {},
   "outputs": [],
   "source": [
    "#Opening the mask, since the mask is saved in a netCDF file\n",
    "directory_mask = \"C:/Users/esmer/OneDrive/TN jaar 3/BEP/mask.nc\"\n",
    "mask = nc_read(directory_mask)"
   ]
  },
  {
   "cell_type": "code",
   "execution_count": null,
   "id": "103de217",
   "metadata": {},
   "outputs": [],
   "source": [
    "#Opening the mask for wind turbines of type 900 and 901\n",
    "directory_mask = \"C:/Users/esmer/OneDrive/TN jaar 3/BEP/mask_type900901.nc\"\n",
    "mask_type900901 = nc_read(directory_mask)"
   ]
  },
  {
   "cell_type": "code",
   "execution_count": null,
   "id": "6f6ef2d7",
   "metadata": {},
   "outputs": [],
   "source": [
    "#Opening the mask for all wind turbines on sea\n",
    "directory_mask = \"C:/Users/esmer/OneDrive/TN jaar 3/BEP/masksea.nc\"\n",
    "mask_sea = nc_read(directory_mask)"
   ]
  },
  {
   "cell_type": "markdown",
   "id": "f0d2c5ca",
   "metadata": {},
   "source": [
    "#### Determine the different seasons of the CLL: spring, summer, autumn, winter"
   ]
  },
  {
   "cell_type": "code",
   "execution_count": null,
   "id": "f3919c80",
   "metadata": {},
   "outputs": [],
   "source": [
    "#The directories for the different seasons\n",
    "#Spring, summer, autumn, winter\n",
    "directory1 = [\"E:/data/transfer_1722109_files_fe942ebb/CLL/CLLSpringWFP/cll.his.GERMAN_BIGHT.WINS50_43h21_fERA5_WFP_2050_ptA.2020*.1hr.nc\",\n",
    "             \"E:/data/transfer_1722109_files_fe942ebb/CLL/CLLSummerWFP/cll.his.GERMAN_BIGHT.WINS50_43h21_fERA5_WFP_2050_ptA.2020*.1hr.nc\",\n",
    "             \"E:/data/transfer_1722109_files_fe942ebb/CLL/CLLFallWFP/cll.his.GERMAN_BIGHT.WINS50_43h21_fERA5_WFP_2050_ptA.2020*.1hr.nc\",\n",
    "             \"E:/data/transfer_1722109_files_fe942ebb/CLL/CLLWinterWFP/cll.his.GERMAN_BIGHT.WINS50_43h21_fERA5_WFP_2050_ptA.2020*.1hr.nc\"]\n",
    "\n",
    "directory2 = [\"E:/data/transfer_1722109_files_fe942ebb/CLL/CLLSpringCTL/cll.his.GERMAN_BIGHT.WINS50_43h21_fERA5_CTL_ptA.2020*.1hr.nc\",\n",
    "             \"E:/data/transfer_1722109_files_fe942ebb/CLL/CLLSummerCTL/cll.his.GERMAN_BIGHT.WINS50_43h21_fERA5_CTL_ptA.2020*.1hr.nc\",\n",
    "             \"E:/data/transfer_1722109_files_fe942ebb/CLL/CLLFallCTL/cll.his.GERMAN_BIGHT.WINS50_43h21_fERA5_CTL_ptA.2020*.1hr.nc\",\n",
    "             \"E:/data/transfer_1722109_files_fe942ebb/CLL/CLLWinterCTL/cll.his.GERMAN_BIGHT.WINS50_43h21_fERA5_CTL_ptA.2020*.1hr.nc\"]"
   ]
  },
  {
   "cell_type": "markdown",
   "id": "4c306a69",
   "metadata": {},
   "source": [
    "# Qualitative approach"
   ]
  },
  {
   "cell_type": "markdown",
   "id": "0f6ebc78",
   "metadata": {},
   "source": [
    "## Difference in CLL"
   ]
  },
  {
   "cell_type": "markdown",
   "id": "2c8e6266",
   "metadata": {},
   "source": [
    "#### Determine the minimum and maximum of the difference to find the boundaries of the colorbar"
   ]
  },
  {
   "cell_type": "code",
   "execution_count": null,
   "id": "8c5ad771",
   "metadata": {},
   "outputs": [],
   "source": [
    "min = []\n",
    "max = []\n",
    "for i in range(4):    \n",
    "    CLLwfp = nc_read(directory1[i])\n",
    "    CLLctl = nc_read(directory2[i])\n",
    "    avgCLLwfp = CLLwfp.mean(dim='time')\n",
    "    avgCLLctl = CLLctl.mean(dim='time')\n",
    "    diffCLL = avgCLLwfp - avgCLLctl\n",
    "    minimum = np.min(diffCLL.cll.values)\n",
    "    maximum = np.max(diffCLL.cll.values)\n",
    "    min = np.append(min,minimum)\n",
    "    max = np.append(max,maximum)\n",
    "    \n",
    "print(min)\n",
    "print(max)"
   ]
  },
  {
   "cell_type": "code",
   "execution_count": null,
   "id": "c08e5d5a",
   "metadata": {},
   "outputs": [],
   "source": [
    "min = []\n",
    "max = []\n",
    "for i in range(4):    \n",
    "    CLLwfp = nc_read(directory1[i])\n",
    "    CLLctl = nc_read(directory2[i])\n",
    "    avgCLLwfp = CLLwfp.mean(dim='time')\n",
    "    avgCLLctl = CLLctl.mean(dim='time')\n",
    "    diffCLL = avgCLLwfp - avgCLLctl\n",
    "    minimum = np.min(avgCLLwfp.cll.values)\n",
    "    maximum = np.max(avgCLLctl.cll.values)\n",
    "    min = np.append(min,minimum)\n",
    "    max = np.append(max,maximum)\n",
    "    \n",
    "print(min)\n",
    "print(max)"
   ]
  },
  {
   "cell_type": "markdown",
   "id": "78ad595c",
   "metadata": {},
   "source": [
    "### For one year (2020)"
   ]
  },
  {
   "cell_type": "code",
   "execution_count": null,
   "id": "d07f6f38",
   "metadata": {},
   "outputs": [],
   "source": [
    "#Determining the values of CLL for one year instead of seasons\n",
    "CTL=[]\n",
    "WFP = []\n",
    "for i in range(4):\n",
    "    CTL.append(directory2[i])\n",
    "    WFP.append(directory1[i])\n",
    "    \n",
    "#Extracting the data from CTL into an array cll\n",
    "ctl = []\n",
    "wfp = []\n",
    "_ctl = []\n",
    "_wfp = []\n",
    "for i in range(4):\n",
    "    _ctl.append(nc_read(CTL[i]))\n",
    "    combined_ctl = xr.concat(_ctl,dim='time')\n",
    "    _wfp.append(nc_read(WFP[i]))\n",
    "    combined_wfp = xr.concat(_wfp,dim='time')\n",
    "\n",
    "\n",
    "# combined_ctl = xr.concat(_ctl,dim='time')\n",
    "# combined_wfp = xr.concat(_wfp,dim='time')\n",
    "# #Now WFP gives the data in an xarray for one year\n",
    "#Now CTL gives the data in an xarray for one year"
   ]
  },
  {
   "cell_type": "markdown",
   "id": "96883ac1",
   "metadata": {},
   "source": [
    "#### Low cloud cover for year 2020 in CTL"
   ]
  },
  {
   "cell_type": "code",
   "execution_count": null,
   "id": "1a113eec",
   "metadata": {},
   "outputs": [],
   "source": [
    "#For loop to plot the difference in CLL with and without wind farms\n",
    "#plt.figure(dpi=1200)\n",
    "avgCLLwfp = combined_wfp.mean(dim='time')\n",
    "avgCLLctl = combined_ctl.mean(dim='time')\n",
    "diffCLL = avgCLLwfp - avgCLLctl\n",
    "plt.pcolormesh(avgCLLctl.lon,avgCLLctl.lat,avgCLLctl.cll,cmap='Spectral_r',vmin=0,vmax=1)\n",
    "plt.colorbar()\n",
    "plt.scatter(turbines.lon,turbines.lat,s=0.5,c='k',alpha=0.1)\n",
    "plt.xlabel('Longitude(°)')\n",
    "plt.ylabel('Latitude(°)')\n",
    "# plt.title('The difference of low cloud area fraction')\n",
    "plt.xlim(3.3,10.3)\n",
    "plt.ylim(53,56.6)\n",
    "plt.savefig('clldiff2020.jpg',dpi=300) #save the figure\n",
    "plt.show()"
   ]
  },
  {
   "cell_type": "code",
   "execution_count": null,
   "id": "8d449dd8",
   "metadata": {},
   "outputs": [],
   "source": [
    "#The average CLL above wind turbines of type 900 and 901.\n",
    "mask = avgCLLctl.cll.values*mask_type900901.__xarray_dataarray_variable__.values\n",
    "sumCLL = np.sum(mask)\n",
    "sumturbines = np.sum(mask_type900901.__xarray_dataarray_variable__.values)\n",
    "avgCLLdiff = sumCLL/sumturbines\n",
    "avgCLLdiff"
   ]
  },
  {
   "cell_type": "code",
   "execution_count": null,
   "id": "968e9399",
   "metadata": {},
   "outputs": [],
   "source": [
    "#The average CLL in 2020\n",
    "np.mean(avgCLLctl.cll.values)"
   ]
  },
  {
   "cell_type": "markdown",
   "id": "fac52855",
   "metadata": {},
   "source": [
    "#### Difference in cloud cover between WFP and CTL for 2020"
   ]
  },
  {
   "cell_type": "code",
   "execution_count": null,
   "id": "aba4b4e3",
   "metadata": {},
   "outputs": [],
   "source": [
    "#The difference in CLL with and without wind farms\n",
    "#plt.figure(dpi=1200)\n",
    "avgCLLwfp = combined_wfp.mean(dim='time')\n",
    "avgCLLctl = combined_ctl.mean(dim='time')\n",
    "diffCLL = avgCLLwfp - avgCLLctl\n",
    "plt.pcolormesh(diffCLL.lon,diffCLL.lat,diffCLL.cll,cmap='Spectral_r',vmin=-0.07,vmax=0.07)\n",
    "plt.colorbar()\n",
    "plt.scatter(turbines.lon,turbines.lat,s=0.5,c='k',alpha=0.1)\n",
    "plt.xlabel('Longitude(°)')\n",
    "plt.ylabel('Latitude(°)')\n",
    "# plt.title('The difference of low cloud area fraction')\n",
    "plt.xlim(3.3,10.3)\n",
    "plt.ylim(53,56.6)\n",
    "plt.savefig('clldiff2020.jpg',dpi=300) #save the figure\n",
    "plt.show()"
   ]
  },
  {
   "cell_type": "code",
   "execution_count": null,
   "id": "42eac4aa",
   "metadata": {},
   "outputs": [],
   "source": [
    "#The average difference in CLL above wind turbines of type 900 and 901.\n",
    "mask = diffCLL.cll.values*mask_type900901.__xarray_dataarray_variable__.values\n",
    "sumCLL = np.sum(mask)\n",
    "sumturbines = np.sum(mask_type900901.__xarray_dataarray_variable__.values)\n",
    "avgCLLdiff = sumCLL/sumturbines\n",
    "avgCLLdiff"
   ]
  },
  {
   "cell_type": "code",
   "execution_count": null,
   "id": "2ee1b7e2",
   "metadata": {},
   "outputs": [],
   "source": [
    "np.max(diffCLL.cll.values)"
   ]
  },
  {
   "cell_type": "markdown",
   "id": "9cef43ff",
   "metadata": {},
   "source": [
    "### Per season"
   ]
  },
  {
   "cell_type": "markdown",
   "id": "5407fb1c",
   "metadata": {},
   "source": [
    "#### Difference in cloud cover between WFP and CTL per season"
   ]
  },
  {
   "cell_type": "code",
   "execution_count": null,
   "id": "4601814f",
   "metadata": {
    "scrolled": false
   },
   "outputs": [],
   "source": [
    "#For loop to plot the difference in CLL with and without wind farms\n",
    "#plt.figure(dpi=1200)\n",
    "for i in range(4):\n",
    "    CLLwfp = nc_read(directory1[i])\n",
    "    CLLctl = nc_read(directory2[i])\n",
    "    avgCLLwfp = CLLwfp.mean(dim='time')\n",
    "    avgCLLctl = CLLctl.mean(dim='time')\n",
    "    diffCLL = avgCLLwfp - avgCLLctl\n",
    "    plt.pcolormesh(diffCLL.lon,diffCLL.lat,diffCLL.cll,cmap='Spectral_r',vmin=-0.07,vmax=0.07)\n",
    "    plt.colorbar()\n",
    "    plt.scatter(turbines.lon,turbines.lat,s=0.5,c='k',alpha=0.1)\n",
    "    plt.xlabel('Longitude(°)')\n",
    "    plt.ylabel('Latitude(°)')\n",
    "#     plt.title('The difference of low cloud area fraction')\n",
    "    plt.xlim(3.3,10.3)\n",
    "    plt.ylim(53,56.6)\n",
    "    #plt.savefig('cllSpringdiff.jpg',dpi=300) #save the figure\n",
    "    plt.show()"
   ]
  },
  {
   "cell_type": "markdown",
   "id": "e597965a",
   "metadata": {},
   "source": [
    "## CLL with WFP"
   ]
  },
  {
   "cell_type": "code",
   "execution_count": null,
   "id": "f0376f80",
   "metadata": {
    "scrolled": false
   },
   "outputs": [],
   "source": [
    "#For loop to plot a figure with WFP\n",
    "#plt.figure(dpi=1200)\n",
    "for i in range(4):\n",
    "    CLLwfp = nc_read(directory1[i])\n",
    "    CLLref = nc_read(directory2[i])\n",
    "    avgCLLwfp = CLLwfp.mean(dim='time')\n",
    "    avgCLLref = CLLref.mean(dim='time')\n",
    "    #plt.subplot(2,2,1+i)\n",
    "    plt.pcolormesh(avgCLLwfp.lon,avgCLLwfp.lat,avgCLLwfp.cll,cmap='Spectral_r',vmin=0,vmax=1)\n",
    "    plt.colorbar()\n",
    "    plt.scatter(turbines.lon,turbines.lat,s=0.5,c='k',alpha=0.1)\n",
    "    plt.xlabel('Longitude(°)')\n",
    "    plt.ylabel('Latitude(°)')\n",
    "    plt.title('Low cloud area fraction with WFP')\n",
    "    plt.xlim(3.3,10.3)\n",
    "    plt.ylim(53,56.6)\n",
    "    #plt.savefig('cllSpringdiff.jpg',dpi=300) #save the figure\n",
    "    plt.show()"
   ]
  },
  {
   "cell_type": "markdown",
   "id": "b0156c61",
   "metadata": {},
   "source": [
    "## CLL without WFP"
   ]
  },
  {
   "cell_type": "markdown",
   "id": "3b671af7",
   "metadata": {},
   "source": [
    "#### Over the seasons"
   ]
  },
  {
   "cell_type": "code",
   "execution_count": null,
   "id": "6026a0fb",
   "metadata": {
    "scrolled": false
   },
   "outputs": [],
   "source": [
    "#For loop to plot CLL without WFP\n",
    "#plt.figure(dpi=1200)\n",
    "for i in range(4):\n",
    "    CLLwfp = nc_read(directory1[i])\n",
    "    CLLref = nc_read(directory2[i])\n",
    "    avgCLLwfp = CLLwfp.mean(dim='time')\n",
    "    avgCLLref = CLLref.mean(dim='time')\n",
    "    #plt.subplot(2,2,1+i)\n",
    "    plt.pcolormesh(avgCLLref.lon,avgCLLref.lat,avgCLLref.cll,cmap='Spectral_r',vmin=0,vmax=1)\n",
    "    plt.colorbar()\n",
    "    plt.scatter(turbines.lon,turbines.lat,s=0.5,c='k',alpha=0.1)\n",
    "    plt.xlabel('Longitude(°)')\n",
    "    plt.ylabel('Latitude(°)')\n",
    "#     plt.title('Low cloud area fraction without WFP')\n",
    "    plt.xlim(3.3,10.3)\n",
    "    plt.ylim(53,56.6)\n",
    "    #plt.savefig('cllSpringdiff.jpg',dpi=300) #save the figure\n",
    "    plt.show()\n",
    "    print(np.mean(avgCLLref.cll.values))"
   ]
  },
  {
   "cell_type": "markdown",
   "id": "7efc0114",
   "metadata": {},
   "source": [
    "# Quantitative approach"
   ]
  },
  {
   "cell_type": "markdown",
   "id": "b9ac5fcf",
   "metadata": {},
   "source": [
    "## Using the mask for calculating CLL for wind turbines type 900 and 901"
   ]
  },
  {
   "cell_type": "markdown",
   "id": "3df2ed12",
   "metadata": {},
   "source": [
    "Hierboven hebben we gekeken naar het verschil in low cloud coverage met en zonder windmolens. Dit hebben we kwalitatief gedaan door te plotten hoe de CLL verandert als er wel of geen windmolens staan bij de noordzee. Maar nu willen we er kwantitatief naar kijken. Ik heb een mask met nullen en enen gemaakt en die mask is een 1 als er een windmolen van type 900 en 901 aanwezig is, wat de grootste windmolen is en daarmee ook de grootste impact op het klimaat en specifiek wolkenvorming zal hebben, en een 0 als er geen windmolen van type 901 aanwezig is. "
   ]
  },
  {
   "cell_type": "markdown",
   "id": "aa290fb0",
   "metadata": {},
   "source": [
    "We gaan nu CLL vermenigvuldigen met de mask. Dat gaan we doen met een zonder windmolens, dus de CTL en de WFP variabele. Hier willen we vervolgens het verschil tussen weten en met dat verschil willen we dat normaliseren door te delen over de som van de windturbines van type 901."
   ]
  },
  {
   "cell_type": "markdown",
   "id": "acc7d165",
   "metadata": {},
   "source": [
    "#### Directories CLL for seasons"
   ]
  },
  {
   "cell_type": "code",
   "execution_count": null,
   "id": "436f6bc8",
   "metadata": {},
   "outputs": [],
   "source": [
    "#The directories for the different seasons\n",
    "#Spring, summer, autumn, winter\n",
    "directory1 = [\"E:/data/transfer_1722109_files_fe942ebb/CLL/CLLSpringWFP/cll.his.GERMAN_BIGHT.WINS50_43h21_fERA5_WFP_2050_ptA.2020*.1hr.nc\",\n",
    "             \"E:/data/transfer_1722109_files_fe942ebb/CLL/CLLSummerWFP/cll.his.GERMAN_BIGHT.WINS50_43h21_fERA5_WFP_2050_ptA.2020*.1hr.nc\",\n",
    "             \"E:/data/transfer_1722109_files_fe942ebb/CLL/CLLFallWFP/cll.his.GERMAN_BIGHT.WINS50_43h21_fERA5_WFP_2050_ptA.2020*.1hr.nc\",\n",
    "             \"E:/data/transfer_1722109_files_fe942ebb/CLL/CLLWinterWFP/cll.his.GERMAN_BIGHT.WINS50_43h21_fERA5_WFP_2050_ptA.2020*.1hr.nc\"]\n",
    "\n",
    "directory2 = [\"E:/data/transfer_1722109_files_fe942ebb/CLL/CLLSpringCTL/cll.his.GERMAN_BIGHT.WINS50_43h21_fERA5_CTL_ptA.2020*.1hr.nc\",\n",
    "             \"E:/data/transfer_1722109_files_fe942ebb/CLL/CLLSummerCTL/cll.his.GERMAN_BIGHT.WINS50_43h21_fERA5_CTL_ptA.2020*.1hr.nc\",\n",
    "             \"E:/data/transfer_1722109_files_fe942ebb/CLL/CLLFallCTL/cll.his.GERMAN_BIGHT.WINS50_43h21_fERA5_CTL_ptA.2020*.1hr.nc\",\n",
    "             \"E:/data/transfer_1722109_files_fe942ebb/CLL/CLLWinterCTL/cll.his.GERMAN_BIGHT.WINS50_43h21_fERA5_CTL_ptA.2020*.1hr.nc\"]"
   ]
  },
  {
   "cell_type": "markdown",
   "id": "9774c0b2",
   "metadata": {},
   "source": [
    "#### Kwantitatief verschil in CLL bepalen voor 1 windmolen van type 900 en 901"
   ]
  },
  {
   "cell_type": "markdown",
   "id": "7fc0c8c3",
   "metadata": {},
   "source": [
    "The difference in CLL above wind turbines of type 900 and 901 between CTL and WFP per season"
   ]
  },
  {
   "cell_type": "code",
   "execution_count": null,
   "id": "c0195003",
   "metadata": {},
   "outputs": [],
   "source": [
    "#Opening the mask, since the mask is saved in a netCDF file\n",
    "#Importing the mask of wind turbines 900 and 901\n",
    "directory_mask = \"C:/Users/esmer/OneDrive/TN jaar 3/BEP/mask_type900901.nc\"\n",
    "mask_type900901 = nc_read(directory_mask)\n",
    "\n",
    "#We gaan voor 4 verschillende seizoenen bepalen wat het gemiddelde verschil in CLL is tussen CTL en WFP\n",
    "CLL = []\n",
    "for i in range(4): \n",
    "    CLLwfp = nc_read(directory1[i])\n",
    "    CLLctl = nc_read(directory2[i])\n",
    "    avgCLLwfp = CLLwfp.mean(dim=\"time\")\n",
    "    avgCLLctl = CLLctl.mean(dim=\"time\")\n",
    "    diffCLL = avgCLLwfp - avgCLLctl\n",
    "    diff = diffCLL.cll.values*mask_type900901.__xarray_dataarray_variable__.values\n",
    "    sumCLL = np.sum(diff)\n",
    "    sumturbines = np.sum(mask_type900901.__xarray_dataarray_variable__.values)\n",
    "    avgdiffCLL = sumCLL/sumturbines\n",
    "    CLL = np.append(CLL,avgdiffCLL)    \n",
    "print(CLL)"
   ]
  },
  {
   "cell_type": "markdown",
   "id": "9bde2b5f",
   "metadata": {},
   "source": [
    "Average values of CLL above wind turbines per season"
   ]
  },
  {
   "cell_type": "code",
   "execution_count": null,
   "id": "7056c302",
   "metadata": {},
   "outputs": [],
   "source": [
    "CLLvalues=[]\n",
    "for i in range(4):\n",
    "    CLLctl = nc_read(directory2[i])\n",
    "    CLLctlmean = CLLctl.mean(dim='time')\n",
    "    CLLctlmean.cll.load()\n",
    "    \n",
    "    maskcllctl = CLLctlmean.cll.values*mask_type900901.__xarray_dataarray_variable__.values\n",
    "    sumcllmask = np.sum(maskcllctl)\n",
    "    sumturbines = np.sum(mask_type900901.__xarray_dataarray_variable__.values)\n",
    "    valuescll = sumcllmask/sumturbines\n",
    "    CLLvalues.append(valuescll)"
   ]
  },
  {
   "cell_type": "code",
   "execution_count": null,
   "id": "d1311b01",
   "metadata": {},
   "outputs": [],
   "source": [
    "CLLvalues"
   ]
  },
  {
   "cell_type": "code",
   "execution_count": null,
   "id": "a51ca329",
   "metadata": {},
   "outputs": [],
   "source": [
    "CTL=[]\n",
    "WFP = []\n",
    "for i in range(4):\n",
    "    CTL.append(directory2[i])\n",
    "    WFP.append(directory1[i])\n",
    "    \n",
    "#Extracting the data from CTL into an array cll\n",
    "ctl = []\n",
    "wfp = []\n",
    "for i in range(4):\n",
    "    _ctl = []\n",
    "    _ctl.append(nc_read(CTL[i]))\n",
    "\n",
    "    \n",
    "    _wfp = []\n",
    "    _wfp.append(nc_read(WFP[i]))\n",
    "\n",
    "\n",
    "combined_ctl = xr.concat(_ctl,dim='time')\n",
    "combined_wfp = xr.concat(_wfp,dim='time')\n",
    "# #Now WFP gives the data in an xarray for one year\n",
    "#Now CTL gives the data in an xarray for one year"
   ]
  },
  {
   "cell_type": "code",
   "execution_count": null,
   "id": "d7edd4e8",
   "metadata": {},
   "outputs": [],
   "source": [
    "a = combined_wfp.mean(dim = \"time\") - combined_ctl.mean(dim=\"time\")\n",
    "mask = a.cll.values*mask_type900901.__xarray_dataarray_variable__.values\n",
    "sumCLL = np.sum(mask)\n",
    "sumturbines = np.sum(mask_type900901.__xarray_dataarray_variable__.values)\n",
    "avgCLLdiff = sumCLL/sumturbines\n",
    "\n",
    "avgCLLdiff\n",
    "np.max(a.cll.values)"
   ]
  },
  {
   "cell_type": "code",
   "execution_count": null,
   "id": "358439c5",
   "metadata": {},
   "outputs": [],
   "source": [
    "mask = avgCLLctl.cll.values*mask_type900901.__xarray_dataarray_variable__.values\n",
    "sumCLL = np.sum(mask)\n",
    "sumturbines = np.sum(mask_type900901.__xarray_dataarray_variable__.values)\n",
    "avgCLLdiff = sumCLL/sumturbines"
   ]
  },
  {
   "cell_type": "code",
   "execution_count": null,
   "id": "875a3943",
   "metadata": {},
   "outputs": [],
   "source": [
    "# avgCLLwfp = combined_wfp.mean(dim='time')\n",
    "avgCLLctl = _ctl[0].mean(dim=\"time\")\n",
    "# avgCLLctl = combined_ctl.mean(dim='time')\n",
    "avgCLLwfp = _wfp[0].mean(dim='time')\n",
    "diffCLL = avgCLLwfp - avgCLLctl \n",
    "diff = diffCLL.cll.values*mask_type900901.__xarray_dataarray_variable__.values\n",
    "sumCLL = np.sum(diff)\n",
    "sumturbines = np.sum(mask_type900901.__xarray_dataarray_variable__.values)\n",
    "avgdiffCLL = sumCLL/sumturbines\n",
    "CLL = avgdiffCLL  \n",
    "\n",
    "CLL"
   ]
  },
  {
   "cell_type": "markdown",
   "id": "5f52dd87",
   "metadata": {},
   "source": [
    "## Calculating total difference in CLL"
   ]
  },
  {
   "cell_type": "markdown",
   "id": "89178d3f",
   "metadata": {},
   "source": [
    "Now we want to know whether there is a total increase in low cloud coverage or that the distribution of the low clouds changed rather than more CLL."
   ]
  },
  {
   "cell_type": "code",
   "execution_count": null,
   "id": "ecb2356b",
   "metadata": {},
   "outputs": [],
   "source": [
    "CLLavg=[]\n",
    "for i in range(4):\n",
    "    CLLwfp = nc_read(directory1[i])\n",
    "    CLLctl = nc_read(directory2[i])\n",
    "    avgCLLwfp = CLLwfp.mean(dim='time')\n",
    "    avgCLLctl = CLLctl.mean(dim='time')\n",
    "    diffCLL = avgCLLwfp - avgCLLctl\n",
    "    sumcll = np.sum(diffCLL.cll.values) #Sum of the low cloud area fraction between wfp and ctl\n",
    "    gridpoints = np.ones([146,166]) #The amount of grid points\n",
    "    sumgridpoints = np.sum(gridpoints)\n",
    "    avgcll = sumcll/sumgridpoints\n",
    "    CLLavg = np.append(CLLavg,avgcll)\n",
    "print(CLLavg)"
   ]
  },
  {
   "cell_type": "code",
   "execution_count": null,
   "id": "4d9b8c30",
   "metadata": {},
   "outputs": [],
   "source": [
    "np.mean(CLLavg)"
   ]
  },
  {
   "cell_type": "code",
   "execution_count": null,
   "id": "47d23d9e",
   "metadata": {},
   "outputs": [],
   "source": [
    "CLL = []\n",
    "for i in range(366):\n",
    "    diffcll = dayswfp[i] - days[i]\n",
    "    diff = diffcll.cll.values*mask_type900901.__xarray_dataarray_variable__.values\n",
    "    sumCLL = np.sum(diff)\n",
    "    sumturbines = np.sum(mask_type900901.__xarray_dataarray_variable__.values)\n",
    "    avgdiffCLL = sumCLL/sumturbines\n",
    "    CLL = np.append(CLL,avgdiffCLL) \n",
    "\n",
    "np.mean(CLL)"
   ]
  },
  {
   "cell_type": "markdown",
   "id": "2f50ff05",
   "metadata": {},
   "source": [
    "# Analysis of bins of CLL"
   ]
  },
  {
   "cell_type": "markdown",
   "id": "e3f48eb6",
   "metadata": {},
   "source": [
    "#### CTL"
   ]
  },
  {
   "cell_type": "code",
   "execution_count": null,
   "id": "2c117d95",
   "metadata": {},
   "outputs": [],
   "source": [
    "directory = [\"E:/data/transfer_1722109_files_fe942ebb/CLL/CLLWinterCTL/cll.his.GERMAN_BIGHT.WINS50_43h21_fERA5_CTL_ptA.202001*.1hr.nc\",\n",
    "             \"E:/data/transfer_1722109_files_fe942ebb/CLL/CLLWinterCTL/cll.his.GERMAN_BIGHT.WINS50_43h21_fERA5_CTL_ptA.202002*.1hr.nc\",\n",
    "             \"E:/data/transfer_1722109_files_fe942ebb/CLL/CLLSpringCTL/cll.his.GERMAN_BIGHT.WINS50_43h21_fERA5_CTL_ptA.202003*.1hr.nc\",\n",
    "             \"E:/data/transfer_1722109_files_fe942ebb/CLL/CLLSpringCTL/cll.his.GERMAN_BIGHT.WINS50_43h21_fERA5_CTL_ptA.202004*.1hr.nc\",\n",
    "             \"E:/data/transfer_1722109_files_fe942ebb/CLL/CLLSpringCTL/cll.his.GERMAN_BIGHT.WINS50_43h21_fERA5_CTL_ptA.202005*.1hr.nc\",\n",
    "             \"E:/data/transfer_1722109_files_fe942ebb/CLL/CLLSummerCTL/cll.his.GERMAN_BIGHT.WINS50_43h21_fERA5_CTL_ptA.202006*.1hr.nc\",\n",
    "             \"E:/data/transfer_1722109_files_fe942ebb/CLL/CLLSummerCTL/cll.his.GERMAN_BIGHT.WINS50_43h21_fERA5_CTL_ptA.202007*.1hr.nc\",\n",
    "             \"E:/data/transfer_1722109_files_fe942ebb/CLL/CLLSummerCTL/cll.his.GERMAN_BIGHT.WINS50_43h21_fERA5_CTL_ptA.202008*.1hr.nc\",\n",
    "             \"E:/data/transfer_1722109_files_fe942ebb/CLL/CLLFallCTL/cll.his.GERMAN_BIGHT.WINS50_43h21_fERA5_CTL_ptA.202009*.1hr.nc\",\n",
    "             \"E:/data/transfer_1722109_files_fe942ebb/CLL/CLLFallCTL/cll.his.GERMAN_BIGHT.WINS50_43h21_fERA5_CTL_ptA.202010*.1hr.nc\",\n",
    "             \"E:/data/transfer_1722109_files_fe942ebb/CLL/CLLFallCTL/cll.his.GERMAN_BIGHT.WINS50_43h21_fERA5_CTL_ptA.202011*.1hr.nc\",\n",
    "             \"E:/data/transfer_1722109_files_fe942ebb/CLL/CLLWinterCTL/cll.his.GERMAN_BIGHT.WINS50_43h21_fERA5_CTL_ptA.202012*.1hr.nc\"\n",
    "            ]"
   ]
  },
  {
   "cell_type": "markdown",
   "id": "2b5e4b76",
   "metadata": {},
   "source": [
    "#### WFP"
   ]
  },
  {
   "cell_type": "code",
   "execution_count": null,
   "id": "19b49899",
   "metadata": {},
   "outputs": [],
   "source": [
    "directorywfp = [\"E:/data/transfer_1722109_files_fe942ebb/CLL/CLLWinterWFP/cll.his.GERMAN_BIGHT.WINS50_43h21_fERA5_WFP_2050_ptA.202001*.1hr.nc\",\n",
    "                \"E:/data/transfer_1722109_files_fe942ebb/CLL/CLLWinterWFP/cll.his.GERMAN_BIGHT.WINS50_43h21_fERA5_WFP_2050_ptA.202002*.1hr.nc\",\n",
    "                \"E:/data/transfer_1722109_files_fe942ebb/CLL/CLLSpringWFP/cll.his.GERMAN_BIGHT.WINS50_43h21_fERA5_WFP_2050_ptA.202003*.1hr.nc\",\n",
    "                \"E:/data/transfer_1722109_files_fe942ebb/CLL/CLLSpringWFP/cll.his.GERMAN_BIGHT.WINS50_43h21_fERA5_WFP_2050_ptA.202004*.1hr.nc\",\n",
    "                \"E:/data/transfer_1722109_files_fe942ebb/CLL/CLLSpringWFP/cll.his.GERMAN_BIGHT.WINS50_43h21_fERA5_WFP_2050_ptA.202005*.1hr.nc\",\n",
    "                \"E:/data/transfer_1722109_files_fe942ebb/CLL/CLLSummerWFP/cll.his.GERMAN_BIGHT.WINS50_43h21_fERA5_WFP_2050_ptA.202006*.1hr.nc\",\n",
    "                \"E:/data/transfer_1722109_files_fe942ebb/CLL/CLLSummerWFP/cll.his.GERMAN_BIGHT.WINS50_43h21_fERA5_WFP_2050_ptA.202007*.1hr.nc\",\n",
    "                \"E:/data/transfer_1722109_files_fe942ebb/CLL/CLLSummerWFP/cll.his.GERMAN_BIGHT.WINS50_43h21_fERA5_WFP_2050_ptA.202008*.1hr.nc\",\n",
    "                \"E:/data/transfer_1722109_files_fe942ebb/CLL/CLLFallWFP/cll.his.GERMAN_BIGHT.WINS50_43h21_fERA5_WFP_2050_ptA.202009*.1hr.nc\",\n",
    "                \"E:/data/transfer_1722109_files_fe942ebb/CLL/CLLFallWFP/cll.his.GERMAN_BIGHT.WINS50_43h21_fERA5_WFP_2050_ptA.202010*.1hr.nc\",\n",
    "                \"E:/data/transfer_1722109_files_fe942ebb/CLL/CLLFallWFP/cll.his.GERMAN_BIGHT.WINS50_43h21_fERA5_WFP_2050_ptA.202011*.1hr.nc\",\n",
    "                \"E:/data/transfer_1722109_files_fe942ebb/CLL/CLLWinterWFP/cll.his.GERMAN_BIGHT.WINS50_43h21_fERA5_WFP_2050_ptA.202012*.1hr.nc\",\n",
    "               ]"
   ]
  },
  {
   "cell_type": "markdown",
   "id": "45f75ef7",
   "metadata": {},
   "source": [
    "### CTL: calculation CLL above all wind turbines (900 and 901) and all days in 2020"
   ]
  },
  {
   "cell_type": "code",
   "execution_count": null,
   "id": "38298a79",
   "metadata": {},
   "outputs": [],
   "source": [
    "#Array for different months\n",
    "#Without WFP\n",
    "CTL = []\n",
    "for i in range(12):\n",
    "    CTL.append(directory[i])"
   ]
  },
  {
   "cell_type": "code",
   "execution_count": null,
   "id": "77f41fb1",
   "metadata": {},
   "outputs": [],
   "source": [
    "#Extracting the data from CTL into an array cll\n",
    "cll = []\n",
    "for i in range(12):\n",
    "    _ctl = []\n",
    "    _ctl.append(nc_read(CTL[i]))\n",
    "    combined_ctl = xr.concat(_ctl,dim='time')\n",
    "    cll.append(combined_ctl)"
   ]
  },
  {
   "cell_type": "code",
   "execution_count": null,
   "id": "ce871dd8",
   "metadata": {},
   "outputs": [],
   "source": [
    "#Average over all hours in one day\n",
    "days = []\n",
    "dayssel=[]\n",
    "months = [32,30,32,31,32,31,32,32,31,32,31,32]\n",
    "j=0\n",
    "for i in range(12): \n",
    "    for j in range(1,months[i]): #All days in year 2020\n",
    "        dayssel = cll[i].isel(time=(cll[i].time.dt.day == j)) #Selecting the days\n",
    "        daycll = dayssel.mean(dim='time') #Calculating the mean CLL over that day\n",
    "        days.append(daycll)\n",
    "    j+=1"
   ]
  },
  {
   "cell_type": "code",
   "execution_count": null,
   "id": "3524a4e4",
   "metadata": {},
   "outputs": [],
   "source": [
    "#Loading CLL data for all days\n",
    "for i in range(len(days)):\n",
    "    days[i].cll.load()"
   ]
  },
  {
   "cell_type": "code",
   "execution_count": null,
   "id": "e3b679e8",
   "metadata": {},
   "outputs": [],
   "source": [
    "indices = np.where(mask_type900901.__xarray_dataarray_variable__.values == 1) "
   ]
  },
  {
   "cell_type": "code",
   "execution_count": null,
   "id": "897c3db7",
   "metadata": {},
   "outputs": [],
   "source": [
    "cllvaluesctl=[]\n",
    "for i in range(366):\n",
    "    clldayctl=[]\n",
    "    for j in range(1570):\n",
    "        clldayctl.append(days[i].cll.values[indices[0][j],indices[1][j]])\n",
    "    cllvaluesctl.append(clldayctl)"
   ]
  },
  {
   "cell_type": "code",
   "execution_count": null,
   "id": "acf9fe90",
   "metadata": {},
   "outputs": [],
   "source": [
    "pd.DataFrame(cllvaluesctl)"
   ]
  },
  {
   "cell_type": "code",
   "execution_count": null,
   "id": "54127433",
   "metadata": {},
   "outputs": [],
   "source": [
    "#Array to determine the value of CLL for a specific day above the wind turbines\n",
    "avgcllday = []\n",
    "for i in range(366):\n",
    "    cllsum = np.sum(cllvaluesctl[i])\n",
    "    turbines = 1570\n",
    "    avgcllday.append(cllsum/turbines)"
   ]
  },
  {
   "cell_type": "code",
   "execution_count": null,
   "id": "c22e4b7c",
   "metadata": {},
   "outputs": [],
   "source": [
    "pd.DataFrame(avgcllday)"
   ]
  },
  {
   "cell_type": "markdown",
   "id": "6083265c",
   "metadata": {},
   "source": [
    "### WFP: calculation CLL above all wind turbines (900 and 901) and all days in 2020"
   ]
  },
  {
   "cell_type": "code",
   "execution_count": null,
   "id": "497cd6bf",
   "metadata": {},
   "outputs": [],
   "source": [
    "#Array for different months\n",
    "WFP = []\n",
    "for i in range(12):\n",
    "    WFP.append(directorywfp[i])"
   ]
  },
  {
   "cell_type": "code",
   "execution_count": null,
   "id": "ec5a410d",
   "metadata": {},
   "outputs": [],
   "source": [
    "wfp = []\n",
    "for i in range(12):\n",
    "    _wfp = []\n",
    "    _wfp.append(nc_read(WFP[i]))\n",
    "    combined_wfp = xr.concat(_wfp,dim='time')\n",
    "    wfp.append(combined_wfp)"
   ]
  },
  {
   "cell_type": "code",
   "execution_count": null,
   "id": "71dd3ced",
   "metadata": {},
   "outputs": [],
   "source": [
    "#Average over all hours in one day\n",
    "dayswfp = []\n",
    "dayssel=[]\n",
    "months = [32,30,32,31,32,31,32,32,31,32,31,32]\n",
    "j=0\n",
    "for i in range(12): \n",
    "    for j in range(1,months[i]): #All days in year 2020\n",
    "        dayssel = wfp[i].isel(time=(wfp[i].time.dt.day == j)) #Selecting the days\n",
    "        daywfp = dayssel.mean(dim='time') #Calculating the mean CLL over that day\n",
    "        dayswfp.append(daywfp)\n",
    "    j+=1"
   ]
  },
  {
   "cell_type": "code",
   "execution_count": null,
   "id": "a9523fb2",
   "metadata": {},
   "outputs": [],
   "source": [
    "for i in range(len(dayswfp)):\n",
    "    dayswfp[i].cll.load()"
   ]
  },
  {
   "cell_type": "code",
   "execution_count": null,
   "id": "b7d7af3b",
   "metadata": {},
   "outputs": [],
   "source": [
    "cllvalueswfp=[]\n",
    "for i in range(366):\n",
    "    clldaywfp=[]\n",
    "    for j in range(1570):\n",
    "        clldaywfp.append(dayswfp[i].cll.values[indices[0][j],indices[1][j]])\n",
    "    cllvalueswfp.append(clldaywfp)"
   ]
  },
  {
   "cell_type": "code",
   "execution_count": null,
   "id": "34f7d327",
   "metadata": {},
   "outputs": [],
   "source": [
    "#Array to determine the average value of CLL above all wind turbines\n",
    "avgclldaywfp = []\n",
    "for i in range(366):\n",
    "    cllsum = np.sum(cllvalueswfp[i])\n",
    "    turbines = 1570\n",
    "    avgclldaywfp.append(cllsum/turbines)"
   ]
  },
  {
   "cell_type": "code",
   "execution_count": null,
   "id": "ea1015ab",
   "metadata": {},
   "outputs": [],
   "source": [
    "pd.DataFrame(avgclldaywfp)"
   ]
  },
  {
   "cell_type": "markdown",
   "id": "ef92a590",
   "metadata": {},
   "source": [
    "### Dividing CLL above wind turbines in bins"
   ]
  },
  {
   "cell_type": "code",
   "execution_count": null,
   "id": "b9511842",
   "metadata": {},
   "outputs": [],
   "source": [
    "#Calculation in which bins the values of CLL for ctl belong and the same values for WFP for that case\n",
    "cllctl = []\n",
    "cllwfp = []\n",
    "bound = [0.0,0.1,0.2,0.3,0.4,0.5,0.6,0.7,0.8,0.9,1.0]\n",
    "for j in range(366): #All days\n",
    "    matrixctl = []\n",
    "    matrixwfp = []\n",
    "    for k in range(len(bound)-1):\n",
    "        if bound[k] <= avgcllday[j] < bound[k+1]: #Does cll of ctl of a certain day belong to bound [k,k+1]\n",
    "            matrixctl.append(avgcllday[j]) #If so, append the value of cll to matrixctl\n",
    "            matrixwfp.append(avgclldaywfp[j]) #Append the value of the same day in the same bin of wfp\n",
    "        else:\n",
    "            matrixctl.append(np.nan)\n",
    "            matrixwfp.append(np.nan)\n",
    "    cllctl.append(matrixctl)\n",
    "    cllwfp.append(matrixwfp)\n",
    "    \n",
    "#cllctl is an array containing the values of cll of ctl in the bins\n",
    "#cllwfp is an array containing the values of cll of wfp in the bins of ctl\n",
    "#This means you get, for every day, the average value of CLL in a bin. 10 bins and for every day one value of CLL in\n",
    "# one bin."
   ]
  },
  {
   "cell_type": "code",
   "execution_count": null,
   "id": "3c0c5ab9",
   "metadata": {},
   "outputs": [],
   "source": [
    "#The difference in CLL between wfp and ctl\n",
    "diffcll = np.subtract(cllwfp,cllctl)"
   ]
  },
  {
   "cell_type": "code",
   "execution_count": null,
   "id": "6adc01af",
   "metadata": {},
   "outputs": [],
   "source": [
    "pd.DataFrame(diffcll)"
   ]
  },
  {
   "cell_type": "markdown",
   "id": "36bbcd30",
   "metadata": {},
   "source": [
    "Now we know at a certain day, what bin the value of CLL belongs to and what the difference of that day and that bin is between WFP and CTL. Next, we want to know what the average CLL is over a bin. For this, we need to know the sum of the values of CLL in a bin and the sum of the turbines inside that bin."
   ]
  },
  {
   "cell_type": "code",
   "execution_count": null,
   "id": "e02c008a",
   "metadata": {},
   "outputs": [],
   "source": [
    "pd.DataFrame(diffcll)"
   ]
  },
  {
   "cell_type": "code",
   "execution_count": null,
   "id": "d9368932",
   "metadata": {},
   "outputs": [],
   "source": [
    "#Function to calculate the sum of the turbines\n",
    "def numberOfNonNans(data):\n",
    "    count = 0\n",
    "    for i in data:\n",
    "        if not np.isnan(i):\n",
    "            count += 1\n",
    "    return count "
   ]
  },
  {
   "cell_type": "code",
   "execution_count": null,
   "id": "ef79e5a8",
   "metadata": {},
   "outputs": [],
   "source": [
    "#Make an array of the sum of the turbines for the different bins\n",
    "sumturbines=[]\n",
    "for i in range(10):\n",
    "    sumturbines.append(numberOfNonNans(diffcll[:,i]))\n",
    "\n",
    "np.sum(sumturbines)\n",
    "sumturbines"
   ]
  },
  {
   "cell_type": "markdown",
   "id": "bebbcbc2",
   "metadata": {},
   "source": [
    "Now we want to take the average over the bins."
   ]
  },
  {
   "cell_type": "code",
   "execution_count": null,
   "id": "d68cee13",
   "metadata": {},
   "outputs": [],
   "source": [
    "cllbin=[]\n",
    "for j in range(10):\n",
    "    sumdiffcll = np.nansum(diffcll[:,j])\n",
    "    cllbin.append(sumdiffcll/sumturbines[j])\n",
    "    \n",
    "cllbin       "
   ]
  },
  {
   "cell_type": "markdown",
   "id": "08d5f78d",
   "metadata": {},
   "source": [
    "### Seasons"
   ]
  },
  {
   "cell_type": "code",
   "execution_count": null,
   "id": "f234551f",
   "metadata": {},
   "outputs": [],
   "source": [
    "#The difference in CLL between wfp and ctl\n",
    "diffcll = np.subtract(cllwfp,cllctl)"
   ]
  },
  {
   "cell_type": "code",
   "execution_count": null,
   "id": "3e2ef294",
   "metadata": {},
   "outputs": [],
   "source": [
    "pd.DataFrame(diffcll)"
   ]
  },
  {
   "cell_type": "markdown",
   "id": "d4c283bc",
   "metadata": {},
   "source": [
    "#### Calculation of the different bins and values of CLL"
   ]
  },
  {
   "cell_type": "code",
   "execution_count": null,
   "id": "5d3e7703",
   "metadata": {
    "scrolled": true
   },
   "outputs": [],
   "source": [
    "# #Spring\n",
    "diffspring = diffcll[60:153]\n",
    "\n",
    "#Make an array of the sum of the turbines for the different bins\n",
    "sumturbinesspring=[]\n",
    "for i in range(10):\n",
    "    sumturbinesspring.append(numberOfNonNans(diffspring[:,i]))\n",
    "\n",
    "cllbinspring=[]\n",
    "for j in range(10):\n",
    "    sumdiffcll = np.nansum(diffspring[:,j])\n",
    "    if sumdiffcll == 0:\n",
    "        cllbinspring.append(0)\n",
    "    else:\n",
    "        cllbinspring.append(sumdiffcll/sumturbinesspring[j])\n",
    "\n",
    "# #Summer\n",
    "diffsummer = diffcll[153:245]\n",
    "\n",
    "#Make an array of the sum of the turbines for the different bins\n",
    "sumturbinessummer=[]\n",
    "for i in range(10):\n",
    "    sumturbinessummer.append(numberOfNonNans(diffsummer[:,i]))\n",
    "\n",
    "cllbinsummer=[]\n",
    "for j in range(10):\n",
    "    sumdiffcll = np.nansum(diffsummer[:,j])\n",
    "    if sumdiffcll == 0:\n",
    "        cllbinsummer.append(0)\n",
    "    else:\n",
    "        cllbinsummer.append(sumdiffcll/sumturbinessummer[j])\n",
    "    \n",
    "# #autumn\n",
    "diffautumn = diffcll[245:336]\n",
    "\n",
    "#Make an array of the sum of the turbines for the different bins\n",
    "sumturbinesautumn=[]\n",
    "for i in range(10):\n",
    "    sumturbinesautumn.append(numberOfNonNans(diffautumn[:,i]))\n",
    "\n",
    "cllbinautumn=[]\n",
    "for j in range(10):\n",
    "    sumdiffcll = np.nansum(diffautumn[:,j])\n",
    "    if sumdiffcll == 0:\n",
    "        cllbinautumn.append(0)\n",
    "    else:\n",
    "        cllbinautumn.append(sumdiffcll/sumturbinesautumn[j])\n",
    "\n",
    "#Winter\n",
    "diffwinter1 = diffcll[:60]\n",
    "diffwinter2 = diffcll[336:366]\n",
    "diffwinter1 = pd.DataFrame(diffwinter1)\n",
    "diffwinter2 = pd.DataFrame(diffwinter2)\n",
    "diffwinter = diffwinter1.append(diffwinter2)\n",
    "diffwinter = np.array(diffwinter)\n",
    "\n",
    "sumturbineswinter=[]\n",
    "for i in range(10):\n",
    "    sumturbineswinter.append(numberOfNonNans(diffwinter[:,i]))\n",
    "\n",
    "cllbinwinter=[]\n",
    "for j in range(10):\n",
    "    sumdiffcll = np.nansum(diffwinter[:,j])\n",
    "    if sumdiffcll == 0:\n",
    "        cllbinwinter.append(0)\n",
    "    else:\n",
    "        cllbinwinter.append(sumdiffcll/sumturbinesautumn[j])\n",
    "# diffwinter"
   ]
  },
  {
   "cell_type": "markdown",
   "id": "ea5762a7",
   "metadata": {},
   "source": [
    "#### Calculation of frequency and probability"
   ]
  },
  {
   "cell_type": "code",
   "execution_count": null,
   "id": "d575e046",
   "metadata": {},
   "outputs": [],
   "source": [
    "#Function to calculate the sum of the turbines\n",
    "def numberOfNonNans(data):\n",
    "    count = 0\n",
    "    for i in data:\n",
    "        if not np.isnan(i):\n",
    "            count += 1\n",
    "    return count "
   ]
  },
  {
   "cell_type": "code",
   "execution_count": null,
   "id": "e659a208",
   "metadata": {},
   "outputs": [],
   "source": [
    "#Make an array of the sum of the turbines for the different bins\n",
    "sumturbines=[]\n",
    "for i in range(10):\n",
    "    sumturbines.append(numberOfNonNans(diffcll[:,i]))\n",
    "\n",
    "np.sum(sumturbines)\n",
    "sumturbines"
   ]
  },
  {
   "cell_type": "code",
   "execution_count": null,
   "id": "f318fcdf",
   "metadata": {},
   "outputs": [],
   "source": [
    "cllbin=[]\n",
    "for j in range(10):\n",
    "    sumdiffcll = np.nansum(diffcll[:,j])\n",
    "    cllbin.append(sumdiffcll/sumturbines[j])\n",
    "    \n",
    "cllbin   "
   ]
  },
  {
   "cell_type": "code",
   "execution_count": null,
   "id": "f6c26906",
   "metadata": {},
   "outputs": [],
   "source": [
    "probspring = np.divide(sumturbinesspring,np.sum(sumturbinesspring))\n",
    "probsummer = np.divide(sumturbinessummer,np.sum(sumturbinessummer))\n",
    "probautumn = np.divide(sumturbinesautumn,np.sum(sumturbinesautumn))\n",
    "probwinter = np.divide(sumturbineswinter,np.sum(sumturbineswinter))\n",
    "\n",
    "probspring"
   ]
  },
  {
   "cell_type": "code",
   "execution_count": null,
   "id": "d798f19c",
   "metadata": {},
   "outputs": [],
   "source": [
    "a=[]\n",
    "a.append(np.sum(probspring*cllbinspring))\n",
    "a.append(np.sum(probsummer*cllbinsummer))\n",
    "a.append(np.sum(probautumn*cllbinautumn))\n",
    "a.append(np.sum(probwinter*cllbinwinter))\n",
    "\n",
    "a"
   ]
  },
  {
   "cell_type": "code",
   "execution_count": null,
   "id": "22b7fafa",
   "metadata": {},
   "outputs": [],
   "source": [
    "np.max(cllbin)"
   ]
  },
  {
   "cell_type": "code",
   "execution_count": null,
   "id": "7130203c",
   "metadata": {},
   "outputs": [],
   "source": [
    "bins = [0.05,0.15,0.25,0.35,0.45,0.55,0.65,0.75,0.85,0.95]\n",
    "plt.plot(bins,cllbin,label=\"All days\",marker='o',color='orangered')\n",
    "# plt.plot(bins,cllbinspring,label=\"spring\",marker='o',color='darkorange')\n",
    "# plt.plot(bins,cllbinsummer,label=\"summer\",marker='o',color='gold')\n",
    "# plt.plot(bins,cllbinautumn,label=\"autumn\",marker='o',color='limegreen')\n",
    "# plt.plot(bins,cllbinwinter,label=\"winter\",marker='o',color='lightblue')\n",
    "# plt.xticks(bins,values)\n",
    "values = [0,0.1,0.2,0.3,0.4,0.5,0.6,0.7,0.8,0.9,1.0]\n",
    "# plt.grid(axis='x',linewidth=0.5)\n",
    "grid_points = [0,0.1,0.2,0.3,0.4,0.5,0.6,0.7,0.8,0.9,1.0]\n",
    "plt.xticks(grid_points)\n",
    "plt.grid(axis='x')\n",
    "# plt.yticks([0.0])\n",
    "plt.grid(axis='y')\n",
    "# plt.legend()\n",
    "# plt.title(\"Difference in cloud cover\")\n",
    "plt.xlabel(\"Low cloud cover CTL\")\n",
    "plt.ylabel(\"Difference in low cloud cover\")\n",
    "plt.savefig('differencebinsCLL.jpg',dpi=300) #save the figure\n",
    "plt.show()"
   ]
  },
  {
   "cell_type": "code",
   "execution_count": null,
   "id": "ec432776",
   "metadata": {},
   "outputs": [],
   "source": [
    "bins = [0.05,0.15,0.25,0.35,0.45,0.55,0.65,0.75,0.85,0.95]\n",
    "# plt.plot(bins,cllbin,label=\"All days\",marker='o',color='orangered')\n",
    "plt.plot(bins,cllbinspring,label=\"spring\",marker='o',color='darkorange')\n",
    "plt.plot(bins,cllbinsummer,label=\"summer\",marker='o',color='gold')\n",
    "plt.plot(bins,cllbinautumn,label=\"autumn\",marker='o',color='limegreen')\n",
    "plt.plot(bins,cllbinwinter,label=\"winter\",marker='o',color='lightblue')\n",
    "# plt.xticks(bins,values)\n",
    "values = [0,0.1,0.2,0.3,0.4,0.5,0.6,0.7,0.8,0.9,1.0]\n",
    "# plt.grid(axis='x',linewidth=0.5)\n",
    "grid_points = [0,0.1,0.2,0.3,0.4,0.5,0.6,0.7,0.8,0.9,1.0]\n",
    "plt.xticks(grid_points)\n",
    "plt.grid(axis='x')\n",
    "# plt.yticks([0.0])\n",
    "plt.grid(axis='y')\n",
    "plt.legend()\n",
    "# plt.title(\"Difference in cloud cover\")\n",
    "plt.xlabel(\"Fraction of low cloud cover CTL\")\n",
    "plt.ylabel(\"Difference in fraction of low cloud cover\")\n",
    "plt.savefig('differencebinsCLL.jpg',dpi=300) #save the figure\n",
    "plt.show()"
   ]
  },
  {
   "cell_type": "markdown",
   "id": "9731e993",
   "metadata": {},
   "source": [
    "### Calculating the frequency and probability of a bin"
   ]
  },
  {
   "cell_type": "markdown",
   "id": "974d859b",
   "metadata": {},
   "source": [
    "#### Frequency"
   ]
  },
  {
   "cell_type": "code",
   "execution_count": null,
   "id": "91b29b80",
   "metadata": {},
   "outputs": [],
   "source": [
    "frequency = sumturbines"
   ]
  },
  {
   "cell_type": "code",
   "execution_count": null,
   "id": "58c54959",
   "metadata": {},
   "outputs": [],
   "source": [
    "bins = [0.05,0.15,0.25,0.35,0.45,0.55,0.65,0.75,0.85,0.95]\n",
    "plt.plot(bins,frequency,label=\"All days\",color='orangered',drawstyle='steps-mid')\n",
    "grid_points = [0,0.1,0.2,0.3,0.4,0.5,0.6,0.7,0.8,0.9,1.0]\n",
    "plt.xticks(grid_points)\n",
    "plt.grid(axis='x')\n",
    "# plt.yticks([0.0])\n",
    "plt.grid(axis='y')\n",
    "plt.xlabel(\"Bins\")\n",
    "plt.ylabel(\"Frequency\")\n",
    "# plt.title(\"The amount of days with average CLL inside bin\")\n",
    "plt.legend()\n",
    "plt.savefig('HistogramfrequencyCLL.jpg',dpi=300) #save the figure\n",
    "plt.show()\n",
    "#The amount of days that the average CLL over all wind turbines of 900 and 901 is inside a bin"
   ]
  },
  {
   "cell_type": "markdown",
   "id": "7f775c1d",
   "metadata": {},
   "source": [
    "#### Probability"
   ]
  },
  {
   "cell_type": "code",
   "execution_count": null,
   "id": "e2b33320",
   "metadata": {},
   "outputs": [],
   "source": [
    "prob = np.divide(frequency,366)"
   ]
  },
  {
   "cell_type": "code",
   "execution_count": null,
   "id": "116f49e0",
   "metadata": {},
   "outputs": [],
   "source": [
    "bins = [0.05,0.15,0.25,0.35,0.45,0.55,0.65,0.75,0.85,0.95]\n",
    "plt.plot(bins,prob,label=\"All days\",color='orangered',drawstyle='steps-mid')\n",
    "# plt.plot(bins,probspring,label=\"Spring\",drawstyle='steps-mid')\n",
    "# plt.plot(bins,probsummer,label=\"Summer\",drawstyle='steps-mid')\n",
    "# plt.plot(bins,probautumn,label=\"Autumn\",drawstyle='steps-mid')\n",
    "# plt.plot(bins,probwinter,label=\"Winter\",drawstyle='steps-mid')\n",
    "grid_points = [0,0.1,0.2,0.3,0.4,0.5,0.6,0.7,0.8,0.9,1.0]\n",
    "plt.xticks(grid_points)\n",
    "plt.grid(axis='x')\n",
    "# plt.yticks([0.0])\n",
    "plt.grid(axis='y')\n",
    "plt.xlabel(\"Bins\")\n",
    "plt.ylabel(\"Probability\")\n",
    "plt.legend()\n",
    "plt.title(\"The probability that CLL is inside a bin\")\n",
    "plt.savefig('probabilitycllbin.jpg',dpi=300) #save the figure"
   ]
  },
  {
   "cell_type": "code",
   "execution_count": null,
   "id": "545d489e",
   "metadata": {},
   "outputs": [],
   "source": [
    "values = prob * cllbin\n",
    "values\n",
    "np.sum(values[1:])"
   ]
  }
 ],
 "metadata": {
  "kernelspec": {
   "display_name": "Python 3 (ipykernel)",
   "language": "python",
   "name": "python3"
  },
  "language_info": {
   "codemirror_mode": {
    "name": "ipython",
    "version": 3
   },
   "file_extension": ".py",
   "mimetype": "text/x-python",
   "name": "python",
   "nbconvert_exporter": "python",
   "pygments_lexer": "ipython3",
   "version": "3.10.4"
  }
 },
 "nbformat": 4,
 "nbformat_minor": 5
}

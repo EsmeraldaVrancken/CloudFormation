{
 "cells": [
  {
   "cell_type": "markdown",
   "id": "ea9d7e51",
   "metadata": {},
   "source": [
    "# Data analyse CL\n"
   ]
  },
  {
   "cell_type": "markdown",
   "id": "f9944120",
   "metadata": {},
   "source": [
    "#### Packages"
   ]
  },
  {
   "cell_type": "code",
   "execution_count": null,
   "id": "ec19fc11",
   "metadata": {},
   "outputs": [],
   "source": [
    "#Import packages\n",
    "import cartopy.crs as ccrs\n",
    "import cartopy.feature as cfeature\n",
    "import matplotlib.pyplot as plt\n",
    "import numpy as np\n",
    "import xarray as xr\n",
    "import tarfile\n",
    "import io\n",
    "import csv\n",
    "import pandas as pd\n",
    "# import netCDF4\n",
    "# import h5netcdf\n",
    "# import glob\n",
    "import datetime"
   ]
  },
  {
   "cell_type": "markdown",
   "id": "b641ed74",
   "metadata": {},
   "source": [
    "#### Functions"
   ]
  },
  {
   "cell_type": "code",
   "execution_count": null,
   "id": "3c1ebeb1",
   "metadata": {},
   "outputs": [],
   "source": [
    "#Function to read (csv) data file\n",
    "def read_data(filename):\n",
    "    headers = ['lon','lat','type','r','z']\n",
    "    df = pd.read_csv(filename,skiprows=1,names= headers,delim_whitespace=True)\n",
    "    return df"
   ]
  },
  {
   "cell_type": "code",
   "execution_count": null,
   "id": "5c462447",
   "metadata": {},
   "outputs": [],
   "source": [
    "#Function to read (nc) data file\n",
    "def nc_read(directory):\n",
    "    data = xr.open_mfdataset(directory)\n",
    "    return data"
   ]
  },
  {
   "cell_type": "code",
   "execution_count": null,
   "id": "cc2e25ba",
   "metadata": {},
   "outputs": [],
   "source": [
    "#Read data from the coordinates of the wind turbines\n",
    "turbines = read_data(\"E:\\data\\wind_turbine_coordinates_2020_2050.tab\")"
   ]
  },
  {
   "cell_type": "code",
   "execution_count": null,
   "id": "f7aac62f",
   "metadata": {},
   "outputs": [],
   "source": [
    "#Importing the mask of wind turbines 901\n",
    "directory_mask = \"C:/Users/esmer/OneDrive/TN jaar 3/BEP/mask.nc\"\n",
    "mask = nc_read(directory_mask)"
   ]
  },
  {
   "cell_type": "code",
   "execution_count": null,
   "id": "b7fb03f4",
   "metadata": {},
   "outputs": [],
   "source": [
    "#Importing the mask of wind turbines 900 and 901\n",
    "directory_mask = \"C:/Users/esmer/OneDrive/TN jaar 3/BEP/mask_type900901.nc\"\n",
    "mask_type900901 = nc_read(directory_mask)"
   ]
  },
  {
   "cell_type": "code",
   "execution_count": null,
   "id": "84349653",
   "metadata": {},
   "outputs": [],
   "source": [
    "#The height\n",
    "directory = \"E:/data/german_bight/phi.Slev.fp.GERMAN_BIGHT.WINS50_43h21_fERA5_CTL_ptA.20200101.1hr.nc\"\n",
    "phi = nc_read(directory) #Geopotential per height\n",
    "phimean = phi.mean(dim=\"time\") #Taking the mean of the geopotential over the entire year\n",
    "phimeanlonlat = phimean.mean(dim=[\"x\",\"y\"]) #Taking the mean of the geopotential over the longitude and latitude\n",
    "height = phimeanlonlat.phi.values/9.81 #Dividing the geopotential by 9.81 to determine the true height\n",
    "height = np.sort(height)"
   ]
  },
  {
   "cell_type": "markdown",
   "id": "39c64178",
   "metadata": {},
   "source": [
    "## CL: cloud area fraction for different heights"
   ]
  },
  {
   "cell_type": "markdown",
   "id": "c0f658a5",
   "metadata": {},
   "source": [
    "## Plotting the cloud fraction for different heights for WFP and CTL"
   ]
  },
  {
   "cell_type": "markdown",
   "id": "f67aa87d",
   "metadata": {},
   "source": [
    "#### Selecting seasons from data"
   ]
  },
  {
   "cell_type": "code",
   "execution_count": null,
   "id": "5a815a5a",
   "metadata": {},
   "outputs": [],
   "source": [
    "#Array for the different directories\n",
    "#Months\n",
    "directory1 = [\"E:/data/german_bight/CL/cl.Slev.his.GERMAN_BIGHT.WINS50_43h21_fERA5_CTL_ptA.202001*.1hr.nc\",\n",
    "             \"E:/data/german_bight/CL/cl.Slev.his.GERMAN_BIGHT.WINS50_43h21_fERA5_CTL_ptA.202002*.1hr.nc\",\n",
    "             \"E:/data/german_bight/CL/cl.Slev.his.GERMAN_BIGHT.WINS50_43h21_fERA5_CTL_ptA.202003*.1hr.nc\",\n",
    "             \"E:/data/german_bight/CL/cl.Slev.his.GERMAN_BIGHT.WINS50_43h21_fERA5_CTL_ptA.202004*.1hr.nc\",\n",
    "             \"E:/data/german_bight/CL/cl.Slev.his.GERMAN_BIGHT.WINS50_43h21_fERA5_CTL_ptA.202005*.1hr.nc\",\n",
    "             \"E:/data/german_bight/CL/cl.Slev.his.GERMAN_BIGHT.WINS50_43h21_fERA5_CTL_ptA.202006*.1hr.nc\",\n",
    "             \"E:/data/german_bight/CL/cl.Slev.his.GERMAN_BIGHT.WINS50_43h21_fERA5_CTL_ptA.202007*.1hr.nc\",\n",
    "             \"E:/data/german_bight/CL/cl.Slev.his.GERMAN_BIGHT.WINS50_43h21_fERA5_CTL_ptA.202008*.1hr.nc\",\n",
    "             \"E:/data/german_bight/CL/cl.Slev.his.GERMAN_BIGHT.WINS50_43h21_fERA5_CTL_ptA.202009*.1hr.nc\",\n",
    "             \"E:/data/german_bight/CL/cl.Slev.his.GERMAN_BIGHT.WINS50_43h21_fERA5_CTL_ptA.202010*.1hr.nc\",\n",
    "             \"E:/data/german_bight/CL/cl.Slev.his.GERMAN_BIGHT.WINS50_43h21_fERA5_CTL_ptA.202011*.1hr.nc\",\n",
    "             \"E:/data/german_bight/CL/cl.Slev.his.GERMAN_BIGHT.WINS50_43h21_fERA5_CTL_ptA.202012*.1hr.nc\"]\n",
    "directory2 = [\"E:/data/german_bight/CL/cl.Slev.his.GERMAN_BIGHT.WINS50_43h21_fERA5_WFP_2050_ptA.202001*.1hr.nc\",\n",
    "             \"E:/data/german_bight/CL/cl.Slev.his.GERMAN_BIGHT.WINS50_43h21_fERA5_WFP_2050_ptA.202002*.1hr.nc\",\n",
    "             \"E:/data/german_bight/CL/cl.Slev.his.GERMAN_BIGHT.WINS50_43h21_fERA5_WFP_2050_ptA.202003*.1hr.nc\",\n",
    "             \"E:/data/german_bight/CL/cl.Slev.his.GERMAN_BIGHT.WINS50_43h21_fERA5_WFP_2050_ptA.202004*.1hr.nc\",\n",
    "             \"E:/data/german_bight/CL/cl.Slev.his.GERMAN_BIGHT.WINS50_43h21_fERA5_WFP_2050_ptA.202005*.1hr.nc\",\n",
    "             \"E:/data/german_bight/CL/cl.Slev.his.GERMAN_BIGHT.WINS50_43h21_fERA5_WFP_2050_ptA.202006*.1hr.nc\",\n",
    "             \"E:/data/german_bight/CL/cl.Slev.his.GERMAN_BIGHT.WINS50_43h21_fERA5_WFP_2050_ptA.202007*.1hr.nc\",\n",
    "             \"E:/data/german_bight/CL/cl.Slev.his.GERMAN_BIGHT.WINS50_43h21_fERA5_WFP_2050_ptA.202008*.1hr.nc\",\n",
    "             \"E:/data/german_bight/CL/cl.Slev.his.GERMAN_BIGHT.WINS50_43h21_fERA5_WFP_2050_ptA.202009*.1hr.nc\",\n",
    "             \"E:/data/german_bight/CL/cl.Slev.his.GERMAN_BIGHT.WINS50_43h21_fERA5_WFP_2050_ptA.202010*.1hr.nc\",\n",
    "             \"E:/data/german_bight/CL/cl.Slev.his.GERMAN_BIGHT.WINS50_43h21_fERA5_WFP_2050_ptA.202011*.1hr.nc\",\n",
    "             \"E:/data/german_bight/CL/cl.Slev.his.GERMAN_BIGHT.WINS50_43h21_fERA5_WFP_2050_ptA.202012*.1hr.nc\",]"
   ]
  },
  {
   "cell_type": "markdown",
   "id": "f4b58bb6",
   "metadata": {},
   "source": [
    "The array CTL defines the directories that correspond with spring, summer, autumn and winter in the directories without wind farms (CTL) and the array WFP defines the directories that correspond with spring, summer, autumn and winter in the directories with wind farms (WFP)."
   ]
  },
  {
   "cell_type": "code",
   "execution_count": null,
   "id": "fb7dfac4",
   "metadata": {},
   "outputs": [],
   "source": [
    "#Array for different seasons\n",
    "#Without WFP\n",
    "CTL = {}\n",
    "CTL[\"spring\"] = []\n",
    "CTL[\"summer\"] = []\n",
    "CTL[\"autumn\"] = []\n",
    "CTL[\"winter\"] = []\n",
    "\n",
    "for i in range(2,5):\n",
    "    CTL[\"spring\"] = np.append(CTL[\"spring\"],directory1[i])\n",
    "for i in range(5,8):\n",
    "    CTL[\"summer\"] = np.append(CTL[\"summer\"],directory1[i])\n",
    "for i in range(8,11):\n",
    "    CTL[\"autumn\"] = np.append(CTL[\"autumn\"],directory1[i])\n",
    "for i in [11,0,1]:\n",
    "    CTL[\"winter\"] = np.append(CTL[\"winter\"],directory1[i])\n",
    "\n",
    "    \n",
    "#With WFP    \n",
    "WFP = {}\n",
    "WFP[\"spring\"] = []\n",
    "WFP[\"summer\"] = []\n",
    "WFP[\"autumn\"] = []\n",
    "WFP[\"winter\"] = []\n",
    "\n",
    "for i in range(2,5):\n",
    "    WFP[\"spring\"] = np.append(WFP[\"spring\"],directory2[i])\n",
    "for i in range(5,8):\n",
    "    WFP[\"summer\"] = np.append(WFP[\"summer\"],directory2[i])\n",
    "for i in range(8,11):\n",
    "    WFP[\"autumn\"] = np.append(WFP[\"autumn\"],directory2[i])\n",
    "for i in [11,0,1]:\n",
    "    WFP[\"winter\"] = np.append(WFP[\"winter\"],directory2[i])"
   ]
  },
  {
   "cell_type": "markdown",
   "id": "223fe39b",
   "metadata": {},
   "source": [
    "#### Defining the data of the seasons in an xarray"
   ]
  },
  {
   "cell_type": "markdown",
   "id": "52206721",
   "metadata": {},
   "source": [
    "Now we want to abstract the data from the directories for spring, summer, autumn and winter. WFP and CTL arrays are overwritten with the data rather than the directories."
   ]
  },
  {
   "cell_type": "code",
   "execution_count": null,
   "id": "382a0b01",
   "metadata": {},
   "outputs": [],
   "source": [
    "#Selecting the different months of data for CL in one array\n",
    "seasons = [\"spring\", \"summer\", \"autumn\", \"winter\"]\n",
    "\n",
    "for season in seasons: #We loop over the different seasons per season\n",
    "    print(season)\n",
    "    _wfp = [] #temporary array for combining monthly data of WFP\n",
    "    _ctl = [] #temporary array for combining monthly data of CTL\n",
    "    for data in WFP[season]: #Appending the data read from the different directories in the seasons\n",
    "        _wfp.append(nc_read(data)) #WFP\n",
    "    for data in CTL[season]:\n",
    "        _ctl.append(nc_read(data)) #CTL\n",
    "    combined_wfp = xr.concat(_wfp, dim='time') #Combine the data of WFP\n",
    "    combined_ctl = xr.concat(_ctl, dim='time') #Combine the data of CTL\n",
    "    WFP[season] = combined_wfp.mean(dim='time') #Taking the mean over the days in the season\n",
    "    CTL[season] = combined_ctl.mean(dim='time') #Taking the mean over the days in the season\n",
    "    \n",
    "#Now WFP gives the data in an xarray for the different seasons\n",
    "#Now CTL gives the data in an xarray for the different seasons"
   ]
  },
  {
   "cell_type": "markdown",
   "id": "61533165",
   "metadata": {},
   "source": [
    "## Wind turbines type 900 and 901"
   ]
  },
  {
   "cell_type": "markdown",
   "id": "b1644720",
   "metadata": {},
   "source": [
    "#### Loading the data"
   ]
  },
  {
   "cell_type": "code",
   "execution_count": null,
   "id": "1a756f78",
   "metadata": {},
   "outputs": [],
   "source": [
    "seasons = [\"spring\", \"summer\", \"autumn\", \"winter\"]\n",
    "\n",
    "for season in seasons:\n",
    "    WFP[season].load()\n",
    "\n",
    "for season in seasons:\n",
    "    CTL[season].load()"
   ]
  },
  {
   "cell_type": "markdown",
   "id": "3b0cde1f",
   "metadata": {},
   "source": [
    "#### Calculation of the average of CL for the different heights for the different seasons over only the wind turbines of type 901."
   ]
  },
  {
   "cell_type": "code",
   "execution_count": null,
   "id": "59760403",
   "metadata": {},
   "outputs": [],
   "source": [
    "#Selecting the different months of data for CL in one array\n",
    "seasons = [\"spring\", \"summer\", \"autumn\", \"winter\"]\n",
    "    \n",
    "avgcl_wfp = {}\n",
    "avgcl_wfp[\"spring\"] = []\n",
    "avgcl_wfp[\"summer\"] = []\n",
    "avgcl_wfp[\"autumn\"] = []\n",
    "avgcl_wfp[\"winter\"] = []\n",
    "\n",
    "avgcl_ctl = {}\n",
    "avgcl_ctl[\"spring\"] = []\n",
    "avgcl_ctl[\"summer\"] = []\n",
    "avgcl_ctl[\"autumn\"] = []\n",
    "avgcl_ctl[\"winter\"] = []\n",
    "\n",
    "for season in seasons: #Nu gaan we over de verschillende seizoenen loopen, beginnend bij de lente, zomer, herfst, winter\n",
    "    _wfp = [] #array met de average CL per level WFP\n",
    "    _ctl = [] #array met de average CL per level CTL\n",
    "    for i in range(65): #Nu gaan we over de verschillende levels loopen\n",
    "        WFPlevels = WFP[season].isel(lev=64-i) #Define levels, beginnend bij laagste hoogte (hoogste z) naar hoog\n",
    "        maskwfp = WFPlevels.cl.values*mask_type900901.__xarray_dataarray_variable__.values #waarden bij windturbine 900 en 901 bepalen\n",
    "        sumCLwfp = np.sum(maskwfp) #som CL WFP bij windturbine 900 en 901\n",
    "        sumturbines = np.sum(mask.__xarray_dataarray_variable__.values)\n",
    "        avgCLwfp = sumCLwfp/sumturbines\n",
    "        _wfp.append(avgCLwfp) #Dan hebben we voor een bepaald seizoen een array met alle levels en alle avg CL\n",
    "        \n",
    "        CTLlevels = CTL[season].isel(lev=64-i)\n",
    "        maskctl = CTLlevels.cl.values*mask_type900901.__xarray_dataarray_variable__.values\n",
    "        sumCLctl = np.sum(maskctl)\n",
    "        avgCLctl = sumCLctl/sumturbines\n",
    "        _ctl.append(avgCLctl)\n",
    "    avgcl_wfp[season].append(_wfp)\n",
    "    avgcl_ctl[season].append(_ctl)\n"
   ]
  },
  {
   "cell_type": "markdown",
   "id": "84972f44",
   "metadata": {},
   "source": [
    "#### Saving the averages in a csv file"
   ]
  },
  {
   "cell_type": "code",
   "execution_count": null,
   "id": "623c00df",
   "metadata": {},
   "outputs": [],
   "source": [
    "for season in seasons:\n",
    "    pd.Series(avgcl_wfp[season][0]).to_csv(f\"avgcl900901_wfp_{season}.csv\")\n",
    "    pd.Series(avgcl_ctl[season][0]).to_csv(f\"avgcl900901_ctl_{season}.csv\")"
   ]
  },
  {
   "cell_type": "markdown",
   "id": "335d530a",
   "metadata": {},
   "source": [
    "#### Opening the files"
   ]
  },
  {
   "cell_type": "code",
   "execution_count": null,
   "id": "f126d870",
   "metadata": {},
   "outputs": [],
   "source": [
    "#CTL\n",
    "CLspringCTL = pd.read_csv(\"C:/Users/esmer/OneDrive/TN jaar 3/BEP/avgcl900901_ctl_spring.csv\", index_col=0)\n",
    "CLsummerCTL = pd.read_csv(\"C:/Users/esmer/OneDrive/TN jaar 3/BEP/avgcl900901_ctl_summer.csv\", index_col=0)\n",
    "CLautumnCTL = pd.read_csv(\"C:/Users/esmer/OneDrive/TN jaar 3/BEP/avgcl900901_ctl_autumn.csv\", index_col=0)\n",
    "CLwinterCTL = pd.read_csv(\"C:/Users/esmer/OneDrive/TN jaar 3/BEP/avgcl900901_ctl_winter.csv\", index_col=0)\n",
    "\n",
    "#WFP\n",
    "CLspringWFP = pd.read_csv(\"C:/Users/esmer/OneDrive/TN jaar 3/BEP/avgcl900901_wfp_spring.csv\", index_col=0)\n",
    "CLsummerWFP = pd.read_csv(\"C:/Users/esmer/OneDrive/TN jaar 3/BEP/avgcl900901_wfp_summer.csv\", index_col=0)\n",
    "CLautumnWFP = pd.read_csv(\"C:/Users/esmer/OneDrive/TN jaar 3/BEP/avgcl900901_wfp_autumn.csv\", index_col=0)\n",
    "CLwinterWFP = pd.read_csv(\"C:/Users/esmer/OneDrive/TN jaar 3/BEP/avgcl900901_wfp_winter.csv\", index_col=0)"
   ]
  },
  {
   "cell_type": "markdown",
   "id": "25d91f40",
   "metadata": {},
   "source": [
    "#### Determining the height per CL"
   ]
  },
  {
   "cell_type": "code",
   "execution_count": null,
   "id": "300ebf86",
   "metadata": {},
   "outputs": [],
   "source": [
    "#Determine the height\n",
    "directory = \"E:/data/german_bight/phi.Slev.fp.GERMAN_BIGHT.WINS50_43h21_fERA5_CTL_ptA.20200101.1hr.nc\"\n",
    "phi = nc_read(directory) #Geopotential per height\n",
    "phimean = phi.mean(dim=\"time\") #Taking the mean of the geopotential over the entire year\n",
    "phimeanlonlat = phimean.mean(dim=[\"x\",\"y\"]) #Taking the mean of the geopotential over the longitude and latitude\n",
    "height = phimeanlonlat.phi.values/9.81 #Dividing the geopotential by 9.81 to determine the true height\n",
    "height = np.sort(height)"
   ]
  },
  {
   "cell_type": "markdown",
   "id": "4d32c07d",
   "metadata": {},
   "source": [
    "#### Plot of the height vs average CL per height"
   ]
  },
  {
   "cell_type": "code",
   "execution_count": null,
   "id": "89391e9d",
   "metadata": {},
   "outputs": [],
   "source": [
    "plt.plot(CLspringCTL,height,label=\"Spring CTL\", color=\"orangered\")\n",
    "plt.plot(CLsummerCTL,height,label=\"Summer CTL\",color=\"darkorange\")\n",
    "plt.plot(CLautumnCTL,height,label=\"Autumn CTL\", color=\"gold\")\n",
    "plt.plot(CLwinterCTL,height,label=\"Winter CTL\", color=\"limegreen\")\n",
    "plt.plot(CLspringWFP,height,label=\"Spring WFP\", color=\"orangered\",linestyle='dashed')\n",
    "plt.plot(CLsummerWFP,height,label=\"Summer WFP\", color=\"darkorange\", linestyle='dashed')\n",
    "plt.plot(CLautumnWFP,height,label=\"Autumn WFP\", color=\"gold\", linestyle='dashed')\n",
    "plt.plot(CLwinterWFP,height,label=\"Winter WFP\", color=\"limegreen\", linestyle='dashed')\n",
    "plt.legend()\n",
    "plt.ylim(0,17000)\n",
    "plt.xlabel(\"Cloud fraction\")\n",
    "plt.ylabel(\"Height (m)\")\n",
    "# plt.title('The average cloud fraction above wind turbines of type 900 and 901')\n",
    "plt.savefig('CL900901.jpg',dpi=300) #save the figure\n",
    "plt.show()"
   ]
  },
  {
   "cell_type": "markdown",
   "id": "4c10d346",
   "metadata": {},
   "source": [
    "## Difference in CL per height"
   ]
  },
  {
   "cell_type": "code",
   "execution_count": null,
   "id": "5f4e471c",
   "metadata": {},
   "outputs": [],
   "source": [
    "CLspring = CLspringWFP-CLspringCTL\n",
    "CLsummer = CLsummerWFP-CLsummerCTL\n",
    "CLautumn = CLautumnWFP-CLautumnCTL\n",
    "CLwinter = CLwinterWFP-CLwinterCTL\n",
    "plt.plot(CLspring,height,label=\"Spring\", color=\"orangered\")\n",
    "plt.plot(CLsummer,height,label=\"Summer\",color=\"darkorange\")\n",
    "plt.plot(CLautumn,height,label=\"Autumn\", color=\"gold\")\n",
    "plt.plot(CLwinter,height,label=\"Winter\", color=\"limegreen\")\n",
    "plt.legend()\n",
    "plt.ylim(0,12000)\n",
    "plt.xlabel(\"Difference in cloud fraction\")\n",
    "plt.ylabel(\"Height(m)\")\n",
    "# plt.title('The difference in average cloud fraction')\n",
    "plt.savefig('diffCL900901.jpg',dpi=300) #save the figure\n",
    "plt.show()"
   ]
  },
  {
   "cell_type": "code",
   "execution_count": null,
   "id": "5eba40d3",
   "metadata": {},
   "outputs": [],
   "source": [
    "np.where(CLwinter == np.max(CLwinter))\n",
    "# height[16]"
   ]
  },
  {
   "cell_type": "code",
   "execution_count": null,
   "id": "8eda5efd",
   "metadata": {},
   "outputs": [],
   "source": [
    "CLspring = CLspringWFP-CLspringCTL\n",
    "CLsummer = CLsummerWFP-CLsummerCTL\n",
    "CLautumn = CLautumnWFP-CLautumnCTL\n",
    "CLwinter = CLwinterWFP-CLwinterCTL\n",
    "plt.plot(CLspring,height,label=\"Spring\", color=\"orangered\")\n",
    "plt.plot(CLsummer,height,label=\"Summer\",color=\"darkorange\")\n",
    "plt.plot(CLautumn,height,label=\"Autumn\", color=\"gold\")\n",
    "plt.plot(CLwinter,height,label=\"Winter\", color=\"limegreen\")\n",
    "plt.plot\n",
    "plt.legend()\n",
    "plt.ylim(0,3000)\n",
    "plt.xlabel(\"Difference in cloud fraction\")\n",
    "plt.ylabel(\"Height(m)\")\n",
    "# plt.title('Average difference in CL above type 900 and 901')\n",
    "plt.savefig('zoomeddiffCL900901.jpg',dpi=300) #save the figure\n",
    "plt.show()\n"
   ]
  },
  {
   "cell_type": "markdown",
   "id": "48bf90d1",
   "metadata": {},
   "source": [
    "## The maximum and minimum delta CF and height per season"
   ]
  },
  {
   "cell_type": "markdown",
   "id": "5a017e9e",
   "metadata": {},
   "source": [
    "#### Calculate the minimum and index to determine the height of the minimum"
   ]
  },
  {
   "cell_type": "code",
   "execution_count": null,
   "id": "b9b0f6d0",
   "metadata": {},
   "outputs": [],
   "source": [
    "CLminimum = [np.min(CLspring),np.min(CLsummer),np.min(CLautumn),np.min(CLwinter)]\n",
    "CLminimum = np.array(CLminimum)"
   ]
  },
  {
   "cell_type": "code",
   "execution_count": null,
   "id": "863e7e75",
   "metadata": {},
   "outputs": [],
   "source": [
    "indexminspring = np.where(CLspring == CLminimum[0])\n",
    "indexminsummer = np.where(CLsummer == CLminimum[1])\n",
    "indexminautumn = np.where(CLautumn == CLminimum[2])\n",
    "indexminwinter = np.where(CLwinter == CLminimum[3])"
   ]
  },
  {
   "cell_type": "code",
   "execution_count": null,
   "id": "6b07b4d5",
   "metadata": {},
   "outputs": [],
   "source": [
    "heightmin = [height[indexminspring[0][0]],height[indexminsummer[0][0]],height[indexminautumn[0][0]],height[indexminwinter[0][0]]]\n",
    "heightmin = np.array(heightmin)"
   ]
  },
  {
   "cell_type": "markdown",
   "id": "57a7fad8",
   "metadata": {},
   "source": [
    "#### Plot the minimum and height against the seasons"
   ]
  },
  {
   "cell_type": "code",
   "execution_count": null,
   "id": "0494e9f9",
   "metadata": {},
   "outputs": [],
   "source": [
    "seasons = [\"Spring\",\"Summer\",\"Autumn\",\"Winter\"]\n",
    "seasons = np.array(seasons)\n",
    "\n",
    "fig, ax = plt.subplots()\n",
    "\n",
    "ax.plot(seasons,CLminimum,label=\"Maximum ΔCF of minimum CF\",color='orangered',linestyle='dashed')\n",
    "ax.tick_params(axis='y', labelcolor='orangered')\n",
    "ax2 = ax.twinx()\n",
    "\n",
    "ax2.plot(seasons,heightmin, color='orange',label='Height of minimum CF')\n",
    "ax2.tick_params(axis='y', labelcolor='orange')\n",
    "\n",
    "ax.set_ylabel(\"ΔCF\")\n",
    "ax2.set_ylabel(\"Height (m)\")\n",
    "ax.legend(loc='upper left')\n",
    "ax2.legend(loc='upper right')\n",
    "# ax.set_xlabel()\n",
    "# plt.title(\"Difference in maximum CL and height\")\n",
    "\n",
    "plt.savefig('mindiffCLseasons.jpg',dpi=300) #save the figure"
   ]
  },
  {
   "cell_type": "markdown",
   "id": "8782ce8c",
   "metadata": {},
   "source": [
    "#### Calculation of the maximum, index and height"
   ]
  },
  {
   "cell_type": "code",
   "execution_count": null,
   "id": "17693fe1",
   "metadata": {},
   "outputs": [],
   "source": [
    "CLmaximum = [np.max(CLspring),np.max(CLsummer),np.max(CLautumn),np.max(CLwinter)]\n",
    "CLmaximum = np.array(CLmaximum)\n",
    "CLmaximum"
   ]
  },
  {
   "cell_type": "code",
   "execution_count": null,
   "id": "74ebd078",
   "metadata": {},
   "outputs": [],
   "source": [
    "indexmaxspring = np.where(CLspring == CLmaximum[0])\n",
    "indexmaxsummer = np.where(CLsummer == CLmaximum[1])\n",
    "indexmaxautumn = np.where(CLautumn == CLmaximum[2])\n",
    "indexmaxwinter = np.where(CLwinter == CLmaximum[3])"
   ]
  },
  {
   "cell_type": "code",
   "execution_count": null,
   "id": "41178d32",
   "metadata": {},
   "outputs": [],
   "source": [
    "heightmax = [height[indexmaxspring[0][0]],height[indexmaxsummer[0][0]],height[indexmaxautumn[0][0]],height[indexmaxwinter[0][0]]]\n",
    "heightmax = np.array(heightmax)"
   ]
  },
  {
   "cell_type": "code",
   "execution_count": null,
   "id": "73706c56",
   "metadata": {},
   "outputs": [],
   "source": [
    "seasons = [\"Spring\",\"Summer\",\"Autumn\",\"Winter\"]\n",
    "seasons = np.array(seasons)\n",
    "\n",
    "fig, ax = plt.subplots()\n",
    "\n",
    "ax.plot(seasons,CLmaximum,label=\"Maximum ΔCF of maximum CF\",color='orangered',linestyle='dashed')\n",
    "ax.tick_params(axis='y', labelcolor='orangered')\n",
    "ax2 = ax.twinx()\n",
    "\n",
    "ax2.plot(seasons,heightmax, color='orange',label='Height of maximum CF')\n",
    "ax2.tick_params(axis='y', labelcolor='orange')\n",
    "\n",
    "ax.set_ylabel(\"ΔCF\")\n",
    "ax2.set_ylabel(\"Height (m)\")\n",
    "ax.legend(loc='upper left')\n",
    "ax2.legend(loc='upper right')\n",
    "# ax.set_xlabel()\n",
    "# plt.title(\"Difference in maximum CL and height\")\n",
    "\n",
    "plt.savefig('maxdiffCLseasons.jpg',dpi=300) #save the figure"
   ]
  },
  {
   "cell_type": "markdown",
   "id": "ea740a06",
   "metadata": {},
   "source": [
    "# Analyseren plotjes"
   ]
  },
  {
   "cell_type": "code",
   "execution_count": null,
   "id": "2c1052d8",
   "metadata": {},
   "outputs": [],
   "source": [
    "#Max CL per season\n",
    "#Height where CL is max\n",
    "seasons = [\"spring\", \"summer\", \"autumn\", \"winter\"]\n",
    "CLspring = np.array(CLspring)\n",
    "np.where(height < 3000)\n",
    "height[:33]\n",
    "CLstd = CLspring[:33]\n",
    "\n",
    "CLarrayspring = np.array(CLspring)\n",
    "CLarraysummer = np.array(CLsummer)\n",
    "CLarrayautumn = np.array(CLautumn)\n",
    "\n",
    "CLmaximum = []\n",
    "heightmaximum = []\n",
    "for season in seasons:\n",
    "    height = height[:33] #the height for which the difference in cloud fraction is the greatest, below 3000 m\n",
    "    CL = np.array(avgcl_wfp[season]) - np.array(avgcl_ctl[season])\n",
    "    CL = CL[:33]\n",
    "    CL = np.array(CL)\n",
    "    CLmax = np.max(CL)\n",
    "    CLmaximum.append(CLmax)\n",
    "    indexmax = np.where(CL == np.max(CL))\n",
    "    heightmax = height[int(indexmax[1])]\n",
    "    heightmaximum.append(heightmax)\n",
    "    \n",
    "print(CLmaximum)\n",
    "print(heightmaximum)\n",
    "    \n"
   ]
  },
  {
   "cell_type": "code",
   "execution_count": null,
   "id": "cbc601e6",
   "metadata": {},
   "outputs": [],
   "source": [
    "CLspring = np.array(CLspring)\n",
    "CLspring.shape\n",
    "CLspring\n",
    "np.where(height < 3000)\n",
    "height[:33]\n",
    "CLstd = CLspring[:33]"
   ]
  },
  {
   "cell_type": "code",
   "execution_count": null,
   "id": "c9a5f0d1",
   "metadata": {},
   "outputs": [],
   "source": [
    "np.where(CL==np.max(CL))"
   ]
  },
  {
   "cell_type": "code",
   "execution_count": null,
   "id": "0e515188",
   "metadata": {},
   "outputs": [],
   "source": [
    "CLspring = CLspringWFP-CLspringCTL\n",
    "CLsummer = CLsummerWFP-CLsummerCTL\n",
    "CLautumn = CLautumnWFP-CLautumnCTL\n",
    "CLwinter = CLwinterWFP-CLwinterCTL\n",
    "plt.plot(CLspring,height,label=\"Spring\", color=\"orangered\")\n",
    "plt.plot(CLsummer,height,label=\"Summer\",color=\"darkorange\")\n",
    "plt.plot(CLautumn,height,label=\"Autumn\", color=\"gold\")\n",
    "plt.plot(CLwinter,height,label=\"Winter\", color=\"limegreen\")\n",
    "plt.ylim(0,3000)\n",
    "plt.xlabel(\"Difference in cloud fraction\")\n",
    "plt.ylabel(\"Height(m)\")\n",
    "# plt.title('The average difference in cloud fraction above wind turbines of type 900 and 901')\n",
    "plt.axhline(y = 150, color = 'k', linestyle = '-',label=\"type 901\")\n",
    "plt.axhline(y = 89, color = 'k', linestyle = '--', label=\"type 900\")\n",
    "plt.legend()\n",
    "plt.savefig('zoomeddiffCL900901.jpg',dpi=300) #save the figure\n",
    "plt.show()"
   ]
  },
  {
   "cell_type": "code",
   "execution_count": null,
   "id": "8d8e893a",
   "metadata": {},
   "outputs": [],
   "source": [
    "# plt.plot(seasons,CLmaximum)\n",
    "plt.plot(seasons,heightmaximum)"
   ]
  },
  {
   "cell_type": "code",
   "execution_count": null,
   "id": "19ff60bc",
   "metadata": {},
   "outputs": [],
   "source": [
    "fig, ax = plt.subplots()\n",
    "\n",
    "ax.plot(seasons,CLmaximum,label=\"Maximum CL\",color='red')\n",
    "ax.tick_params(axis='y', labelcolor='red')\n",
    "ax2 = ax.twinx()\n",
    "\n",
    "ax2.plot(seasons,heightmaximum, color='green')\n",
    "ax2.tick_params(axis='y', labelcolor='green')\n",
    "\n",
    "ax.set_ylabel(\"Difference in cloud fraction between WFP and CTL\")\n",
    "ax2.set_ylabel(\"Height (m)\")\n",
    "ax.set_xlabel(\"Seasons\")"
   ]
  },
  {
   "cell_type": "markdown",
   "id": "29f92384",
   "metadata": {},
   "source": [
    "# Analyse voor maanden in seizoen"
   ]
  },
  {
   "cell_type": "markdown",
   "id": "ecf80e4b",
   "metadata": {},
   "source": [
    "In de plot hierboven is te zien dat de difference in cloud fraction tussen wel en geen windmolenparken toeneemt van spring t/m winter. Dit suggereert dat het verschil van de maanden afhangt. Ook verandert de hoogte van de wolkenvorming. Om dit verder uit te zoeken gaan we naar de 12 maanden kijken."
   ]
  },
  {
   "cell_type": "markdown",
   "id": "5719b327",
   "metadata": {},
   "source": [
    "#### Loading the directories per months"
   ]
  },
  {
   "cell_type": "code",
   "execution_count": null,
   "id": "76a54609",
   "metadata": {},
   "outputs": [],
   "source": [
    "months = [\"January\",\"February\",\"March\",\"April\",\"May\",\"June\",\"July\",\"August\",\"September\",\"October\",\"November\",\"December\"]\n",
    "CTL = {}\n",
    "WFP ={}\n",
    "i = 0 \n",
    "for month in months:\n",
    "    CTL[month] = []\n",
    "    WFP[month] = []\n",
    "    CTL[month].append(directory1[i])\n",
    "    WFP[month].append(directory2[i])\n",
    "    i += 1"
   ]
  },
  {
   "cell_type": "markdown",
   "id": "a54a6f5c",
   "metadata": {},
   "source": [
    "#### Loading the data into the months"
   ]
  },
  {
   "cell_type": "code",
   "execution_count": null,
   "id": "f46f7e7b",
   "metadata": {},
   "outputs": [],
   "source": [
    "#Selecting the different months of data for CL in one array\n",
    "\n",
    "\n",
    "for month in months: #We loop over the different seasons per season\n",
    "    print(month)\n",
    "    _wfp = [] #temporary array for combining monthly data of WFP\n",
    "    _ctl = [] #temporary array for combining monthly data of CTL\n",
    "    for data in WFP[month]: #Appending the data read from the different directories in the seasons\n",
    "        _wfp.append(nc_read(data)) #WFP\n",
    "    for data in CTL[month]:\n",
    "        _ctl.append(nc_read(data)) #CTL\n",
    "    combined_wfp = xr.concat(_wfp, dim='time') #Combine the data of WFP\n",
    "    combined_ctl = xr.concat(_ctl, dim='time') #Combine the data of CTL\n",
    "    WFP[month] = combined_wfp.mean(dim='time') #Taking the mean over the days in the season\n",
    "    CTL[month] = combined_ctl.mean(dim='time') #Taking the mean over the days in the season\n",
    "    \n",
    "#Now WFP gives the data in an xarray for the different seasons\n",
    "#Now CTL gives the data in an xarray for the different seasons"
   ]
  },
  {
   "cell_type": "markdown",
   "id": "96f33153",
   "metadata": {},
   "source": [
    "#### Loading the data"
   ]
  },
  {
   "cell_type": "code",
   "execution_count": null,
   "id": "c526238a",
   "metadata": {},
   "outputs": [],
   "source": [
    "for month in months:\n",
    "    print(month)\n",
    "    WFP[month].load()"
   ]
  },
  {
   "cell_type": "code",
   "execution_count": null,
   "id": "89411989",
   "metadata": {},
   "outputs": [],
   "source": [
    "for month in months:\n",
    "    print(month)\n",
    "    CTL[month].load()"
   ]
  },
  {
   "cell_type": "markdown",
   "id": "aba78a8b",
   "metadata": {},
   "source": [
    "#### Calculation of the average CL over the months over one turbine of type 900 or 901 with and without wind turbines"
   ]
  },
  {
   "cell_type": "code",
   "execution_count": null,
   "id": "013f6503",
   "metadata": {},
   "outputs": [],
   "source": [
    "# #Selecting the different months of data for CL in one array\n",
    "avgcl_wfp = {}\n",
    "avgcl_ctl = {}\n",
    "\n",
    "for month in months:\n",
    "    avgcl_wfp[month] = []\n",
    "    _wfp = []\n",
    "    \n",
    "    avgcl_ctl[month] = []\n",
    "    _ctl = []\n",
    "    for i in range(65):\n",
    "        WFPlevels = WFP[month].isel(lev=64-i)\n",
    "        maskwfp = WFPlevels.cl.values*mask_type900901.__xarray_dataarray_variable__.values\n",
    "        sumCLwfp = np.sum(maskwfp)\n",
    "        sumturbines = np.sum(mask_type900901.__xarray_dataarray_variable__.values)\n",
    "        avgCLwfp = sumCLwfp/sumturbines\n",
    "        _wfp.append(avgCLwfp)\n",
    "        \n",
    "        CTLlevels = CTL[month].isel(lev=64-i)\n",
    "        maskctl = CTLlevels.cl.values*mask_type900901.__xarray_dataarray_variable__.values\n",
    "        sumCLctl = np.sum(maskctl)\n",
    "        avgCLctl = sumCLctl/sumturbines\n",
    "        _ctl.append(avgCLctl)\n",
    "    avgcl_wfp[month].append(_wfp)\n",
    "    avgcl_ctl[month].append(_ctl)"
   ]
  },
  {
   "cell_type": "markdown",
   "id": "305ed2f2",
   "metadata": {},
   "source": [
    "#### Save in a csv file"
   ]
  },
  {
   "cell_type": "code",
   "execution_count": null,
   "id": "3ed61615",
   "metadata": {},
   "outputs": [],
   "source": [
    "for month in months:\n",
    "    pd.Series(avgcl_wfp[month][0]).to_csv(f\"windfarm_avgcl_wfp_{month}.csv\")\n",
    "    pd.Series(avgcl_ctl[month][0]).to_csv(f\"windfarm_avgcl_ctl_{month}.csv\")"
   ]
  },
  {
   "cell_type": "markdown",
   "id": "9c8c8284",
   "metadata": {},
   "source": [
    "#### Opening the files"
   ]
  },
  {
   "cell_type": "code",
   "execution_count": null,
   "id": "04d2b80c",
   "metadata": {},
   "outputs": [],
   "source": [
    "# #CTL\n",
    "# CLjanCTL = pd.read_csv(\"C:/Users/esmer/OneDrive/TN jaar 3/BEP/Python csv/Average CL months/windfarm_avgcl_ctl_January.csv\", index_col=0)\n",
    "# CLfebCTL = pd.read_csv(\"C:/Users/esmer/OneDrive/TN jaar 3/BEP/Python csv/Average CL months/windfarm_avgcl_ctl_February.csv\", index_col=0)\n",
    "# CLmarCTL = pd.read_csv(\"C:/Users/esmer/OneDrive/TN jaar 3/BEP/Python csv/Average CL months/windfarm_avgcl_ctl_March.csv\", index_col=0)\n",
    "# CLaprCTL = pd.read_csv(\"C:/Users/esmer/OneDrive/TN jaar 3/BEP/Python csv/Average CL months/windfarm_avgcl_ctl_April.csv\", index_col=0)\n",
    "# CLmayCTL = pd.read_csv(\"C:/Users/esmer/OneDrive/TN jaar 3/BEP/Python csv/Average CL months/windfarm_avgcl_ctl_May.csv\", index_col=0)\n",
    "# CLjunCTL = pd.read_csv(\"C:/Users/esmer/OneDrive/TN jaar 3/BEP/Python csv/Average CL months/windfarm_avgcl_ctl_June.csv\", index_col=0)\n",
    "# CLjulCTL = pd.read_csv(\"C:/Users/esmer/OneDrive/TN jaar 3/BEP/Python csv/Average CL months/windfarm_avgcl_ctl_July.csv\", index_col=0)\n",
    "# CLaugCTL = pd.read_csv(\"C:/Users/esmer/OneDrive/TN jaar 3/BEP/Python csv/Average CL months/windfarm_avgcl_ctl_August.csv\", index_col=0)\n",
    "# CLseptCTL = pd.read_csv(\"C:/Users/esmer/OneDrive/TN jaar 3/BEP/Python csv/Average CL months/windfarm_avgcl_ctl_September.csv\", index_col=0)\n",
    "# CLoctCTL = pd.read_csv(\"C:/Users/esmer/OneDrive/TN jaar 3/BEP/Python csv/Average CL months/windfarm_avgcl_ctl_October.csv\", index_col=0)\n",
    "# CLnovCTL = pd.read_csv(\"C:/Users/esmer/OneDrive/TN jaar 3/BEP/Python csv/Average CL months/windfarm_avgcl_ctl_November.csv\", index_col=0)\n",
    "# CLdecCTL = pd.read_csv(\"C:/Users/esmer/OneDrive/TN jaar 3/BEP/Python csv/Average CL months/windfarm_avgcl_ctl_December.csv\", index_col=0)\n",
    "\n",
    "# #WFP\n",
    "# CLjanWFP = pd.read_csv(\"C:/Users/esmer/OneDrive/TN jaar 3/BEP/Python csv/Average CL months/windfarm_avgcl_wfp_January.csv\", index_col=0)\n",
    "# CLfebWFP = pd.read_csv(\"C:/Users/esmer/OneDrive/TN jaar 3/BEP/Python csv/Average CL months/windfarm_avgcl_wfp_February.csv\", index_col=0)\n",
    "# CLmarWFP = pd.read_csv(\"C:/Users/esmer/OneDrive/TN jaar 3/BEP/Python csv/Average CL months/windfarm_avgcl_wfp_March.csv\", index_col=0)\n",
    "# CLaprWFP = pd.read_csv(\"C:/Users/esmer/OneDrive/TN jaar 3/BEP/Python csv/Average CL months/windfarm_avgcl_wfp_April.csv\", index_col=0)\n",
    "# CLmayWFP = pd.read_csv(\"C:/Users/esmer/OneDrive/TN jaar 3/BEP/Python csv/Average CL months/windfarm_avgcl_wfp_May.csv\", index_col=0)\n",
    "# CLjunWFP = pd.read_csv(\"C:/Users/esmer/OneDrive/TN jaar 3/BEP/Python csv/Average CL months/windfarm_avgcl_wfp_June.csv\", index_col=0)\n",
    "# CLjulWFP = pd.read_csv(\"C:/Users/esmer/OneDrive/TN jaar 3/BEP/Python csv/Average CL months/windfarm_avgcl_wfp_July.csv\", index_col=0)\n",
    "# CLaugWFP = pd.read_csv(\"C:/Users/esmer/OneDrive/TN jaar 3/BEP/Python csv/Average CL months/windfarm_avgcl_wfp_August.csv\", index_col=0)\n",
    "# CLseptWFP = pd.read_csv(\"C:/Users/esmer/OneDrive/TN jaar 3/BEP/Python csv/Average CL months/windfarm_avgcl_wfp_September.csv\", index_col=0)\n",
    "# CLoctWFP = pd.read_csv(\"C:/Users/esmer/OneDrive/TN jaar 3/BEP/Python csv/Average CL months/windfarm_avgcl_wfp_October.csv\", index_col=0)\n",
    "# CLnovWFP = pd.read_csv(\"C:/Users/esmer/OneDrive/TN jaar 3/BEP/Python csv/Average CL months/windfarm_avgcl_wfp_November.csv\", index_col=0)\n",
    "# CLdecWFP = pd.read_csv(\"C:/Users/esmer/OneDrive/TN jaar 3/BEP/Python csv/Average CL months/windfarm_avgcl_wfp_December.csv\", index_col=0)"
   ]
  },
  {
   "cell_type": "markdown",
   "id": "c64ebef3",
   "metadata": {},
   "source": [
    "#### Plot CL per month"
   ]
  },
  {
   "cell_type": "code",
   "execution_count": null,
   "id": "8bbe47b0",
   "metadata": {},
   "outputs": [],
   "source": [
    "# plt.plot(CLjanCTL,height,label=\"January CTL\", color=\"darkred\")\n",
    "# plt.plot(CLfebCTL,height,label=\"February CTL\",color=\"indianred\")\n",
    "# plt.plot(CLmarCTL,height,label=\"March CTL\", color=\"orangered\")\n",
    "# plt.plot(CLaprCTL,height,label=\"April CTL\", color=\"coral\")\n",
    "# plt.plot(CLmayCTL,height,label=\"May CTL\",color=\"orange\")\n",
    "# plt.plot(CLjunCTL,height,label=\"June CTL\",color=\"gold\")\n",
    "# plt.plot(CLjulCTL,height,label=\"July CTL\",color=\"yellow\")\n",
    "# plt.plot(CLaugCTL,height,label=\"August CTL\",color=\"yellowgreen\")\n",
    "# plt.plot(CLseptCTL,height,label=\"September CTL\",color=\"olivedrab\")\n",
    "# plt.plot(CLoctCTL,height,label=\"October CTL\",color=\"green\")\n",
    "# plt.plot(CLnovCTL,height,label=\"November CTL\",color=\"lightseagreen\")\n",
    "# plt.plot(CLdecCTL,height,label=\"December CTL\", color=\"mediumslateblue\")\n",
    "# plt.plot(CLjanWFP,height,label=\"January WFP\", color=\"darkred\",linestyle=\"dashed\")\n",
    "# plt.plot(CLfebWFP,height,label=\"February WFP\",color=\"indianred\",linestyle=\"dashed\")\n",
    "# plt.plot(CLmarWFP,height,label=\"March WFP\", color=\"orangered\",linestyle=\"dashed\")\n",
    "# plt.plot(CLaprWFP,height,label=\"April WFP\", color=\"coral\",linestyle=\"dashed\")\n",
    "# plt.plot(CLmayWFP,height,label=\"May WFP\",color=\"orange\",linestyle=\"dashed\")\n",
    "# plt.plot(CLjunWFP,height,label=\"June WFP\",color=\"gold\",linestyle=\"dashed\")\n",
    "# plt.plot(CLjulWFP,height,label=\"July WFP\",color=\"yellow\",linestyle=\"dashed\")\n",
    "# plt.plot(CLaugWFP,height,label=\"August WFP\",color=\"yellowgreen\",linestyle=\"dashed\")\n",
    "# plt.plot(CLseptWFP,height,label=\"September WFP\",color=\"olivedrab\",linestyle=\"dashed\")\n",
    "# plt.plot(CLoctWFP,height,label=\"October WFP\",color=\"green\",linestyle=\"dashed\")\n",
    "# plt.plot(CLnovWFP,height,label=\"November WFP\",color=\"lightseagreen\",linestyle=\"dashed\")\n",
    "# plt.plot(CLdecWFP,height,label=\"December WFP\", color=\"mediumslateblue\",linestyle=\"dashed\")\n",
    "# plt.legend()\n",
    "# plt.ylim(0,17000)\n",
    "# plt.xlabel(\"Cloud fraction\")\n",
    "# plt.ylabel(\"Height(m)\")\n",
    "# plt.title('The average cloud fraction over a season above wind turbines of type 900 and 901')\n",
    "# # plt.savefig('CL900901.jpg',dpi=300) #save the figure\n",
    "# plt.show()"
   ]
  },
  {
   "cell_type": "markdown",
   "id": "f408f1a8",
   "metadata": {},
   "source": [
    "#### Plotting the difference in month vs average CL"
   ]
  },
  {
   "cell_type": "code",
   "execution_count": null,
   "id": "31764bf4",
   "metadata": {},
   "outputs": [],
   "source": [
    "# CLjan = CLjanWFP-CLjanCTL\n",
    "# CLfeb = CLfebWFP-CLfebCTL\n",
    "# CLmar = CLmarWFP-CLmarCTL\n",
    "# CLapr = CLaprWFP-CLaprCTL\n",
    "# CLmay = CLmayWFP-CLmayCTL\n",
    "# CLjun = CLjunWFP-CLjunCTL\n",
    "# CLjul = CLjulWFP-CLjulCTL\n",
    "# CLaug = CLaugWFP-CLaugCTL\n",
    "# CLsept = CLseptWFP-CLseptCTL\n",
    "# CLoct = CLoctWFP-CLoctCTL\n",
    "# CLnov = CLnovWFP-CLnovCTL\n",
    "# CLdec = CLdecWFP-CLdecCTL\n",
    "# plt.plot(CLjan,height,label=\"January\", color=\"darkred\")\n",
    "# plt.plot(CLfeb,height,label=\"February\",color=\"indianred\")\n",
    "# plt.plot(CLmar,height,label=\"March\", color=\"orangered\")\n",
    "# plt.plot(CLapr,height,label=\"April\", color=\"coral\")\n",
    "# plt.plot(CLmay,height,label=\"May\",color=\"orange\")\n",
    "# plt.plot(CLjun,height,label=\"June\",color=\"gold\")\n",
    "# plt.plot(CLjul,height,label=\"July\",color=\"yellow\")\n",
    "# plt.plot(CLaug,height,label=\"August\",color=\"yellowgreen\")\n",
    "# plt.plot(CLsept,height,label=\"September\",color=\"olivedrab\")\n",
    "# plt.plot(CLoct,height,label=\"October\",color=\"green\")\n",
    "# plt.plot(CLnov,height,label=\"November\",color=\"lightseagreen\")\n",
    "# plt.plot(CLdec,height,label=\"December\", color=\"mediumslateblue\")\n",
    "# plt.legend()\n",
    "# plt.ylim(0,17000)\n",
    "# plt.xlabel(\"Cloud fraction\")\n",
    "# plt.ylabel(\"Height(m)\")\n",
    "# plt.title('The difference in average cloud fraction over a month above wind turbines of type 900 and 901')\n",
    "# # plt.savefig('CL900901.jpg',dpi=300) #save the figure\n",
    "# plt.show()"
   ]
  },
  {
   "cell_type": "markdown",
   "id": "6ddd0cd1",
   "metadata": {},
   "source": [
    "#### Calculating the maximum CL and the height of the CL"
   ]
  },
  {
   "cell_type": "code",
   "execution_count": null,
   "id": "c8883edc",
   "metadata": {},
   "outputs": [],
   "source": [
    "months = [\"January\",\"February\",\"March\",\"April\",\"May\",\"June\",\"July\",\"August\",\"September\",\"October\",\"November\",\"December\"]\n",
    "CLmaximum = []\n",
    "heightmaximum = []\n",
    "for month in months:\n",
    "    height = height[:33] #the height for which the difference in cloud fraction is the greatest, below 3000 m\n",
    "    CL = np.array(avgcl_wfp[month]) - np.array(avgcl_ctl[month])\n",
    "    CL = CL[:33]\n",
    "    CL = np.array(CL)\n",
    "    CLmax = np.max(CL)\n",
    "    CLmaximum.append(CLmax)\n",
    "    indexmax = np.where(CL == np.max(CL))\n",
    "    heightmax = height[int(indexmax[1])]\n",
    "    heightmaximum.append(heightmax)\n",
    "    \n",
    "print(CLmaximum)\n",
    "print(heightmaximum)"
   ]
  },
  {
   "cell_type": "code",
   "execution_count": null,
   "id": "8ba2c0a1",
   "metadata": {},
   "outputs": [],
   "source": [
    "months = [\"Jan\",\"Feb\",\"March\",\"April\",\"May\",\"June\",\"July\",\"Aug\",\"Sept\",\"Oct\",\"Nov\",\"Dec\"]\n",
    "months = np.array(months)\n",
    "CLmaximum = np.array(CLmaximum)\n",
    "heightmaximum = np.array(heightmaximum)\n",
    "\n",
    "fig, ax = plt.subplots()\n",
    "\n",
    "ax.plot(months,CLmaximum,label=\"Maximum ΔCF of maximum CF\",color='orangered',linestyle='dashed')\n",
    "ax.tick_params(axis='y', labelcolor='orangered')\n",
    "ax2 = ax.twinx()\n",
    "\n",
    "ax2.plot(months,heightmaximum, color='orange',label='Height of maximum CF')\n",
    "ax2.tick_params(axis='y', labelcolor='orange')\n",
    "\n",
    "ax.set_ylabel(\"ΔCF\")\n",
    "ax2.set_ylabel(\"Height (m)\")\n",
    "ax.legend(loc='lower right')\n",
    "ax2.legend(loc='upper right')\n",
    "# ax.set_xlabel()\n",
    "# plt.title(\"Difference in maximum CL and height\")\n",
    "\n",
    "plt.savefig('maxdiffCLmonths.jpg',dpi=300) #save the figure"
   ]
  },
  {
   "cell_type": "markdown",
   "id": "d00da51b",
   "metadata": {},
   "source": [
    "# Maximum height and peak of CL for December"
   ]
  },
  {
   "cell_type": "code",
   "execution_count": null,
   "id": "813a0a64",
   "metadata": {},
   "outputs": [],
   "source": [
    "directory1 = \"E:/data/german_bight/CL/cl.Slev.his.GERMAN_BIGHT.WINS50_43h21_fERA5_CTL_ptA.202012*.1hr.nc\"\n",
    "directory2 = \"E:/data/german_bight/CL/cl.Slev.his.GERMAN_BIGHT.WINS50_43h21_fERA5_WFP_2050_ptA.202012*.1hr.nc\""
   ]
  },
  {
   "cell_type": "code",
   "execution_count": null,
   "id": "3f4ff0de",
   "metadata": {},
   "outputs": [],
   "source": [
    "dataCTL = nc_read(directory1)\n",
    "dataWFP = nc_read(directory2)"
   ]
  },
  {
   "cell_type": "code",
   "execution_count": null,
   "id": "8830ac6e",
   "metadata": {},
   "outputs": [],
   "source": [
    "daysCTL = []\n",
    "daysWFP = []\n",
    "for i in range(1,32):\n",
    "    dayselCTL = dataCTL.isel(time=(dataCTL.time.dt.day == i))\n",
    "    dayselmeanCTL = dayselCTL.mean(dim=\"time\")\n",
    "    daysCTL.append(dayselmeanCTL)\n",
    "    dayselmeanCTL.load()\n",
    "    \n",
    "    dayselWFP = dataWFP.isel(time=(dataWFP.time.dt.day == i))\n",
    "    dayselmeanWFP = dayselWFP.mean(dim=\"time\")\n",
    "    dayselmeanWFP.load()\n",
    "    daysWFP.append(dayselmeanWFP)"
   ]
  },
  {
   "cell_type": "markdown",
   "id": "bab434b8",
   "metadata": {},
   "source": [
    "#### Calculating the average CL over the levels"
   ]
  },
  {
   "cell_type": "code",
   "execution_count": null,
   "id": "738e7661",
   "metadata": {},
   "outputs": [],
   "source": [
    "avgcl_wfp = {}\n",
    "avgcl_ctl = {}\n",
    "\n",
    "for i in range(31):\n",
    "    avgcl_wfp[i] = []\n",
    "    _wfp = []\n",
    "    \n",
    "    avgcl_ctl[i] = []\n",
    "    _ctl = []\n",
    "    for j in range(65):\n",
    "        WFPlevels = daysWFP[i].isel(lev=64-j)\n",
    "        maskwfp = WFPlevels.cl.values*mask_type900901.__xarray_dataarray_variable__.values\n",
    "        sumCLwfp = np.sum(maskwfp)\n",
    "        sumturbines = np.sum(mask_type900901.__xarray_dataarray_variable__.values)\n",
    "        avgCLwfp = sumCLwfp/sumturbines\n",
    "        _wfp.append(avgCLwfp)\n",
    "        \n",
    "        CTLlevels = daysCTL[i].isel(lev=64-j)\n",
    "        maskctl = CTLlevels.cl.values*mask_type900901.__xarray_dataarray_variable__.values\n",
    "        sumCLctl = np.sum(maskctl)\n",
    "        avgCLctl = sumCLctl/sumturbines\n",
    "        _ctl.append(avgCLctl)\n",
    "    avgcl_wfp[i].append(_wfp)\n",
    "    avgcl_ctl[i].append(_ctl)"
   ]
  },
  {
   "cell_type": "markdown",
   "id": "38b65d67",
   "metadata": {},
   "source": [
    "#### Maximum height and peak"
   ]
  },
  {
   "cell_type": "code",
   "execution_count": null,
   "id": "3673f479",
   "metadata": {},
   "outputs": [],
   "source": [
    "CLmaximum = []\n",
    "heightmaximum = []\n",
    "for i in range(31):\n",
    "    height = height[:50] #the height for which the difference in cloud fraction is the greatest, below 3000 m\n",
    "    CL = np.array(avgcl_wfp[i]) - np.array(avgcl_ctl[i])\n",
    "    CL = CL[:50]\n",
    "    CL = np.array(CL)\n",
    "    CLmax = np.max(CL)\n",
    "    CLmaximum.append(CLmax)\n",
    "    indexmax = np.where(CL == np.max(CL))\n",
    "    print(indexmax[1])\n",
    "    heightmax = height[indexmax[1]]\n",
    "    \n",
    "    heightmaximum.append(heightmax)\n",
    "# print(np.array(heightmaximum))\n",
    "heightmaximum"
   ]
  },
  {
   "cell_type": "code",
   "execution_count": null,
   "id": "1c7bdbf3",
   "metadata": {},
   "outputs": [],
   "source": [
    "reverse_order_height = np.sort(heightmaximum)[::-1]\n",
    "print(reverse_order_height)\n",
    "reverse_order_peak = np.sort(CLmaximum)[::-1]\n",
    "print(reverse_order_peak)\n",
    "\n",
    "indexmax = np.where(np.array(CLmaximum)>0.08)\n",
    "# print(CLmaximum)\n",
    "# indexmax\n",
    "np.mean(heightmaximum)\n",
    "# heightmaximum"
   ]
  },
  {
   "cell_type": "code",
   "execution_count": null,
   "id": "ef635f97",
   "metadata": {},
   "outputs": [],
   "source": [
    "indexmax = np.where(np.array(CLmaximum)>0.08)\n",
    "print(indexmax)\n",
    "CLmaximum"
   ]
  },
  {
   "cell_type": "code",
   "execution_count": null,
   "id": "54b9ed79",
   "metadata": {},
   "outputs": [],
   "source": [
    "days = np.arange(1,32)\n",
    "CLmaximum = np.array(CLmaximum)\n",
    "heightmaximum = np.array(heightmaximum)\n",
    "\n",
    "fig, ax = plt.subplots()\n",
    "\n",
    "ax.plot(days,CLmaximum,label=\"Maximum ΔCF for maximum CF\",color='orangered',linestyle=\"dashed\")\n",
    "ax.tick_params(axis='y', labelcolor='orangered')\n",
    "ax2 = ax.twinx()\n",
    "\n",
    "ax2.plot(days,heightmaximum, label='Height of maximum CF',color='orange')\n",
    "ax2.tick_params(axis='y', labelcolor='orange')\n",
    "\n",
    "ax.set_ylabel(\"ΔCF\")\n",
    "ax2.set_ylabel(\"Height (m)\")\n",
    "ax.set_xlabel(\"Date\")\n",
    "ax.legend(loc='upper right')\n",
    "ax2.legend(loc='upper left')\n",
    "plt.savefig('maximumCLdiffjanuary.jpg',dpi=300) #save the figure\n",
    "\n",
    "# plt.legend()\n"
   ]
  },
  {
   "cell_type": "markdown",
   "id": "7aba862b",
   "metadata": {},
   "source": [
    "# Maximum height and peak January"
   ]
  },
  {
   "cell_type": "markdown",
   "id": "0c4012f4",
   "metadata": {},
   "source": [
    "The directories from below should be run and then you can use the code from above to plot the maximum height and peak of January"
   ]
  },
  {
   "cell_type": "code",
   "execution_count": null,
   "id": "1d5a9155",
   "metadata": {},
   "outputs": [],
   "source": [
    "directory1 = \"E:/data/german_bight/CL/cl.Slev.his.GERMAN_BIGHT.WINS50_43h21_fERA5_CTL_ptA.202001*.1hr.nc\"\n",
    "directory2 = \"E:/data/german_bight/CL/cl.Slev.his.GERMAN_BIGHT.WINS50_43h21_fERA5_WFP_2050_ptA.202001*.1hr.nc\""
   ]
  },
  {
   "cell_type": "markdown",
   "id": "52da52c7",
   "metadata": {},
   "source": [
    "## Minimum height and peak"
   ]
  },
  {
   "cell_type": "markdown",
   "id": "8485ed06",
   "metadata": {},
   "source": [
    "#### Calculation of the minimum value of CL and the height of the minimum value"
   ]
  },
  {
   "cell_type": "code",
   "execution_count": null,
   "id": "636f032d",
   "metadata": {},
   "outputs": [],
   "source": [
    "months = [\"January\",\"February\",\"March\",\"April\",\"May\",\"June\",\"July\",\"August\",\"September\",\"October\",\"November\",\"December\"]\n",
    "CLminimum = []\n",
    "heightminimum = []\n",
    "for month in months:\n",
    "    height = height[:60] #the height for which the difference in cloud fraction is the greatest, below 3000 m\n",
    "    CL = np.array(avgcl_wfp[month]) - np.array(avgcl_ctl[month])\n",
    "    CL = CL[:60]\n",
    "    CL = np.array(CL)\n",
    "    CLmin = np.min(CL)\n",
    "    CLminimum.append(CLmin)\n",
    "    indexmin = np.where(CL == np.min(CL))\n",
    "    heightmin = height[int(indexmin[1])]\n",
    "    heightminimum.append(heightmin)\n",
    "    \n",
    "print(CLminimum)\n",
    "print(heightminimum)\n",
    "indexmin"
   ]
  },
  {
   "cell_type": "markdown",
   "id": "48f2bbdd",
   "metadata": {},
   "source": [
    "#### Plot the minimum"
   ]
  },
  {
   "cell_type": "code",
   "execution_count": null,
   "id": "c418e345",
   "metadata": {},
   "outputs": [],
   "source": [
    "months = [\"Jan\",\"Feb\",\"March\",\"April\",\"May\",\"June\",\"July\",\"Aug\",\"Sept\",\"Oct\",\"Nov\",\"Dec\"]\n",
    "months = np.array(months)\n",
    "CLminimum = np.array(CLminimum)\n",
    "heightminimum = np.array(heightminimum)\n",
    "\n",
    "fig, ax = plt.subplots()\n",
    "\n",
    "ax.plot(months,CLminimum,label=\"Maximum ΔCF of minimum CF\",color='orangered',linestyle='dashed')\n",
    "ax.tick_params(axis='y', labelcolor='orangered')\n",
    "ax2 = ax.twinx()\n",
    "\n",
    "ax2.plot(months,heightminimum, color='orange',label='Height of minimum CF')\n",
    "ax2.tick_params(axis='y', labelcolor='orange')\n",
    "\n",
    "ax.set_ylabel(\"ΔCF\")\n",
    "ax2.set_ylabel(\"Height(m)\")\n",
    "ax.legend(loc = 'upper left')\n",
    "ax2.legend(loc = 'upper right')\n",
    "\n",
    "# plt.legend()\n",
    "# ax.set_xlabel()\n",
    "# plt.title(\"Difference in minimum CL and height\")\n",
    "\n",
    "plt.savefig('diffminCLmonths.jpg',dpi=300) #save the figure"
   ]
  },
  {
   "cell_type": "markdown",
   "id": "52708f30",
   "metadata": {},
   "source": [
    "## January and December"
   ]
  },
  {
   "cell_type": "markdown",
   "id": "e7772eaf",
   "metadata": {},
   "source": [
    "#### January"
   ]
  },
  {
   "cell_type": "code",
   "execution_count": null,
   "id": "4f6c321c",
   "metadata": {},
   "outputs": [],
   "source": [
    "directory1 = \"E:/data/german_bight/CL/cl.Slev.his.GERMAN_BIGHT.WINS50_43h21_fERA5_CTL_ptA.202001*.1hr.nc\"\n",
    "directory2 = \"E:/data/german_bight/CL/cl.Slev.his.GERMAN_BIGHT.WINS50_43h21_fERA5_WFP_2050_ptA.202001*.1hr.nc\""
   ]
  },
  {
   "cell_type": "markdown",
   "id": "595123a9",
   "metadata": {},
   "source": [
    "#### December"
   ]
  },
  {
   "cell_type": "code",
   "execution_count": null,
   "id": "25e5ca91",
   "metadata": {},
   "outputs": [],
   "source": [
    "directory1 = \"E:/data/german_bight/CL/cl.Slev.his.GERMAN_BIGHT.WINS50_43h21_fERA5_CTL_ptA.202012*.1hr.nc\"\n",
    "directory2 = \"E:/data/german_bight/CL/cl.Slev.his.GERMAN_BIGHT.WINS50_43h21_fERA5_WFP_2050_ptA.202012*.1hr.nc\""
   ]
  },
  {
   "cell_type": "markdown",
   "id": "30872023",
   "metadata": {},
   "source": [
    "#### Code om minimum and height te bepalen (werkt voor zowel dec als jan)"
   ]
  },
  {
   "cell_type": "code",
   "execution_count": null,
   "id": "fa618e1a",
   "metadata": {},
   "outputs": [],
   "source": [
    "dataCTL = nc_read(directory1)\n",
    "dataWFP = nc_read(directory2)"
   ]
  },
  {
   "cell_type": "code",
   "execution_count": null,
   "id": "eeb066fd",
   "metadata": {},
   "outputs": [],
   "source": [
    "daysCTL = []\n",
    "daysWFP = []\n",
    "for i in range(1,32):\n",
    "    dayselCTL = dataCTL.isel(time=(dataCTL.time.dt.day == i))\n",
    "    dayselmeanCTL = dayselCTL.mean(dim=\"time\")\n",
    "    daysCTL.append(dayselmeanCTL)\n",
    "    dayselmeanCTL.load()\n",
    "    \n",
    "    dayselWFP = dataWFP.isel(time=(dataWFP.time.dt.day == i))\n",
    "    dayselmeanWFP = dayselWFP.mean(dim=\"time\")\n",
    "    dayselmeanWFP.load()\n",
    "    daysWFP.append(dayselmeanWFP)"
   ]
  },
  {
   "cell_type": "code",
   "execution_count": null,
   "id": "5a5a03db",
   "metadata": {},
   "outputs": [],
   "source": [
    "avgcl_wfp = {}\n",
    "avgcl_ctl = {}\n",
    "\n",
    "for i in range(31):\n",
    "    avgcl_wfp[i] = []\n",
    "    _wfp = []\n",
    "    \n",
    "    avgcl_ctl[i] = []\n",
    "    _ctl = []\n",
    "    for j in range(65):\n",
    "        WFPlevels = daysWFP[i].isel(lev=64-j)\n",
    "        maskwfp = WFPlevels.cl.values*mask_type900901.__xarray_dataarray_variable__.values\n",
    "        sumCLwfp = np.sum(maskwfp)\n",
    "        sumturbines = np.sum(mask_type900901.__xarray_dataarray_variable__.values)\n",
    "        avgCLwfp = sumCLwfp/sumturbines\n",
    "        _wfp.append(avgCLwfp)\n",
    "        \n",
    "        CTLlevels = daysCTL[i].isel(lev=64-j)\n",
    "        maskctl = CTLlevels.cl.values*mask_type900901.__xarray_dataarray_variable__.values\n",
    "        sumCLctl = np.sum(maskctl)\n",
    "        avgCLctl = sumCLctl/sumturbines\n",
    "        _ctl.append(avgCLctl)\n",
    "    avgcl_wfp[i].append(_wfp)\n",
    "    avgcl_ctl[i].append(_ctl)"
   ]
  },
  {
   "cell_type": "code",
   "execution_count": null,
   "id": "12c44b48",
   "metadata": {},
   "outputs": [],
   "source": [
    "CLminimum = []\n",
    "heightminimum = []\n",
    "for i in range(31):\n",
    "    height = height[:50] #the height for which the difference in cloud fraction is the greatest, below 3000 m\n",
    "    CL = np.array(avgcl_wfp[i]) - np.array(avgcl_ctl[i])\n",
    "    CL = CL[:50]\n",
    "    CL = np.array(CL)\n",
    "    CLmin = np.min(CL)\n",
    "    CLminimum.append(CLmin)\n",
    "    indexmin = np.where(CL == np.min(CL))\n",
    "    print(indexmin[1])\n",
    "    heightmin = height[indexmin[1]]\n",
    "    \n",
    "    heightminimum.append(heightmin)"
   ]
  },
  {
   "cell_type": "code",
   "execution_count": null,
   "id": "52f99fec",
   "metadata": {},
   "outputs": [],
   "source": [
    "CLminimum"
   ]
  },
  {
   "cell_type": "code",
   "execution_count": null,
   "id": "c6c3f504",
   "metadata": {},
   "outputs": [],
   "source": [
    "np.where(CLminimum == np.min(CLminimum))"
   ]
  },
  {
   "cell_type": "code",
   "execution_count": null,
   "id": "0a50a41a",
   "metadata": {},
   "outputs": [],
   "source": [
    "# CLminimum"
   ]
  },
  {
   "cell_type": "code",
   "execution_count": null,
   "id": "933581c0",
   "metadata": {},
   "outputs": [],
   "source": [
    "# reverse_order_height = np.sort(heightminimum)[::-1]\n",
    "# print(reverse_order_height)\n",
    "# reverse_order_peak = np.sort(CLmaximum)[::-1]\n",
    "# print(reverse_order_peak)\n",
    "\n",
    "# indexmax = np.where(np.array(CLmaximum)>0.08)\n",
    "# # print(CLmaximum)\n",
    "# # indexmax\n",
    "# np.mean(heightmaximum)\n",
    "# # heightmaximum"
   ]
  },
  {
   "cell_type": "code",
   "execution_count": null,
   "id": "f777b438",
   "metadata": {},
   "outputs": [],
   "source": [
    "# indexmax = np.where(np.array(CLmaximum)>0.08)\n",
    "# print(indexmax)\n",
    "# CLmaximum"
   ]
  },
  {
   "cell_type": "code",
   "execution_count": null,
   "id": "e066205d",
   "metadata": {},
   "outputs": [],
   "source": [
    "np.mean(heightminimum)"
   ]
  },
  {
   "cell_type": "code",
   "execution_count": null,
   "id": "0e6d6d7b",
   "metadata": {},
   "outputs": [],
   "source": [
    "np.min(CLminimum)"
   ]
  },
  {
   "cell_type": "code",
   "execution_count": null,
   "id": "eecbba4b",
   "metadata": {},
   "outputs": [],
   "source": [
    "days = np.arange(1,32)\n",
    "CLminimum = np.array(CLminimum)\n",
    "heightminimum = np.array(heightminimum)\n",
    "\n",
    "fig, ax = plt.subplots()\n",
    "\n",
    "ax.plot(days,CLminimum,label=\"Maximum ΔCF in minimum CF\",color='orangered',linestyle=\"dashed\")\n",
    "ax.tick_params(axis='y', labelcolor='orangered')\n",
    "# plt.legend()\n",
    "ax2 = ax.twinx()\n",
    "\n",
    "ax2.plot(days,heightminimum, label='Height of minimum CF',color='orange')\n",
    "ax2.tick_params(axis='y', labelcolor='orange')\n",
    "\n",
    "ax.set_ylabel(\"ΔCF\")\n",
    "ax2.set_ylabel(\"Height (m)\")\n",
    "ax.set_xlabel(\"Date\")\n",
    "ax.legend(loc='upper left')\n",
    "ax2.legend(loc='upper right')\n",
    "# ax2.legend()\n",
    "# plt.title(\"Height of cloud and difference in minimum CL in January\")\n",
    "plt.savefig('minimumCLdiffjan.jpg',dpi=300) #save the figure\n",
    "\n",
    "# plt.legend()\n"
   ]
  }
 ],
 "metadata": {
  "kernelspec": {
   "display_name": "Python 3 (ipykernel)",
   "language": "python",
   "name": "python3"
  },
  "language_info": {
   "codemirror_mode": {
    "name": "ipython",
    "version": 3
   },
   "file_extension": ".py",
   "mimetype": "text/x-python",
   "name": "python",
   "nbconvert_exporter": "python",
   "pygments_lexer": "ipython3",
   "version": "3.10.4"
  },
  "vscode": {
   "interpreter": {
    "hash": "aba2e0fdb6c4b0d4e9290decf5ac0aea0c419cef6b77d2f58c66a60e34fbc325"
   }
  }
 },
 "nbformat": 4,
 "nbformat_minor": 5
}

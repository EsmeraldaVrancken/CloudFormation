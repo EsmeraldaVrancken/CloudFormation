{
 "cells": [
  {
   "cell_type": "markdown",
   "id": "0209aecd",
   "metadata": {},
   "source": [
    "# Data analyse CLT"
   ]
  },
  {
   "cell_type": "markdown",
   "id": "b984d204",
   "metadata": {},
   "source": [
    "#### Packages"
   ]
  },
  {
   "cell_type": "code",
   "execution_count": null,
   "id": "9f62565f",
   "metadata": {},
   "outputs": [],
   "source": [
    "#Import packages\n",
    "import cartopy.crs as ccrs\n",
    "import cartopy.feature as cfeature\n",
    "import matplotlib.pyplot as plt\n",
    "import numpy as np\n",
    "import xarray as xr\n",
    "import tarfile\n",
    "import io\n",
    "import csv\n",
    "import pandas as pd\n",
    "# import netCDF4\n",
    "# import h5netcdf\n",
    "# import glob"
   ]
  },
  {
   "cell_type": "markdown",
   "id": "065ef2fb",
   "metadata": {},
   "source": [
    "#### Functions"
   ]
  },
  {
   "cell_type": "code",
   "execution_count": null,
   "id": "1353dcb0",
   "metadata": {},
   "outputs": [],
   "source": [
    "#Function to read (csv) data file\n",
    "def read_data(filename):\n",
    "    headers = ['lon','lat','type','r','z']\n",
    "    df = pd.read_csv(filename,skiprows=1,names= headers,delim_whitespace=True)\n",
    "    return df"
   ]
  },
  {
   "cell_type": "code",
   "execution_count": null,
   "id": "f83b2675",
   "metadata": {},
   "outputs": [],
   "source": [
    "#Function to read (nc) data file\n",
    "def nc_read(directory):\n",
    "    data = xr.open_mfdataset(directory)\n",
    "    return data"
   ]
  },
  {
   "cell_type": "code",
   "execution_count": null,
   "id": "81c01c82",
   "metadata": {},
   "outputs": [],
   "source": [
    "#Read data from the coordinates of the wind turbines\n",
    "turbines = read_data('E:\\data\\wind_turbine_coordinates_2020_2050.tab')"
   ]
  },
  {
   "cell_type": "code",
   "execution_count": null,
   "id": "4e1540ef",
   "metadata": {},
   "outputs": [],
   "source": [
    "#Importing the mask of wind turbines 900 and 901\n",
    "directory_mask = \"C:/Users/esmer/OneDrive/TN jaar 3/BEP/mask_type900901.nc\"\n",
    "mask_type900901 = nc_read(directory_mask)"
   ]
  },
  {
   "cell_type": "code",
   "execution_count": null,
   "id": "315bdcf9",
   "metadata": {},
   "outputs": [],
   "source": [
    "#Importing the mask of wind turbines in the sea\n",
    "directory_mask = \"C:/Users/esmer/OneDrive/TN jaar 3/BEP/masksea.nc\"\n",
    "mask_sea = nc_read(directory_mask)"
   ]
  },
  {
   "cell_type": "markdown",
   "id": "b40771ab",
   "metadata": {},
   "source": [
    "#### Determine the different seasons: spring, summer, autumn, winter"
   ]
  },
  {
   "cell_type": "code",
   "execution_count": null,
   "id": "7cb0467c",
   "metadata": {},
   "outputs": [],
   "source": [
    "#The directories for the different seasons\n",
    "#Spring, summer, autumn, winter\n",
    "directory1 = [\"E:/data/transfer_1722109_files_fe942ebb/CLT - kopie/CLTlente/clt.his.GERMAN_BIGHT.WINS50_43h21_fERA5_WFP_2050_ptA.2020*.1hr.nc\",\n",
    "             \"E:/data/transfer_1722109_files_fe942ebb/CLT - kopie/CLTzomer/clt.his.GERMAN_BIGHT.WINS50_43h21_fERA5_WFP_2050_ptA.2020*.1hr.nc\",\n",
    "             \"E:/data/transfer_1722109_files_fe942ebb/CLT - kopie/CLTHerfst/clt.his.GERMAN_BIGHT.WINS50_43h21_fERA5_WFP_2050_ptA.2020*.1hr.nc\",\n",
    "             \"E:/data/transfer_1722109_files_fe942ebb/CLT - kopie/CLTwinter/clt.his.GERMAN_BIGHT.WINS50_43h21_fERA5_WFP_2050_ptA.2020*.1hr.nc\"]\n",
    "\n",
    "directory2 = [\"E:/data/transfer_1722109_files_fe942ebb/CLT - kopie/CLTlenteCTL/clt.his.GERMAN_BIGHT.WINS50_43h21_fERA5_CTL_ptA.2020*.1hr.nc\",\n",
    "             \"E:/data/transfer_1722109_files_fe942ebb/CLT - kopie/CLTzomerCTL/clt.his.GERMAN_BIGHT.WINS50_43h21_fERA5_CTL_ptA.2020*.1hr.nc\",\n",
    "             \"E:/data/transfer_1722109_files_fe942ebb/CLT - kopie/CLTherfstCTL/clt.his.GERMAN_BIGHT.WINS50_43h21_fERA5_CTL_ptA.2020*.1hr.nc\",\n",
    "             \"E:/data/transfer_1722109_files_fe942ebb/CLT - kopie/CLTWinterCTL/clt.his.GERMAN_BIGHT.WINS50_43h21_fERA5_CTL_ptA.2020*.1hr.nc\"]"
   ]
  },
  {
   "cell_type": "markdown",
   "id": "97b104fe",
   "metadata": {},
   "source": [
    "# Qualitative approach"
   ]
  },
  {
   "cell_type": "markdown",
   "id": "32a78bfd",
   "metadata": {},
   "source": [
    "## Difference in CLT"
   ]
  },
  {
   "cell_type": "markdown",
   "id": "ac20dd85",
   "metadata": {},
   "source": [
    "#### Determine the minimum and maximum of difference in CLT to determine the boundaries of the colorbar"
   ]
  },
  {
   "cell_type": "code",
   "execution_count": null,
   "id": "d4957db3",
   "metadata": {},
   "outputs": [],
   "source": [
    "min = []\n",
    "max = []\n",
    "for i in range(4):    \n",
    "    CLTwfp = nc_read(directory1[i])\n",
    "    CLTctl = nc_read(directory2[i])\n",
    "    avgCLTwfp = CLTwfp.mean(dim='time')\n",
    "    avgCLTctl = CLTctl.mean(dim='time')\n",
    "    diffCLT = avgCLTwfp - avgCLTctl\n",
    "    minimum = np.min(diffCLT.clt.values)\n",
    "    maximum = np.max(diffCLT.clt.values)\n",
    "    min = np.append(min,minimum)\n",
    "    max = np.append(max,maximum)\n",
    "    \n",
    "print(min)\n",
    "print(max)"
   ]
  },
  {
   "cell_type": "markdown",
   "id": "30e85850",
   "metadata": {},
   "source": [
    "#### Plotting the difference in CLT between CTL and WFP"
   ]
  },
  {
   "cell_type": "code",
   "execution_count": null,
   "id": "2021a36c",
   "metadata": {
    "scrolled": false
   },
   "outputs": [],
   "source": [
    "#For loop to plot the difference in CLT with and without wind farms\n",
    "#plt.figure(dpi=1200)\n",
    "for i in range(4):\n",
    "    CLTwfp = nc_read(directory1[i])\n",
    "    CLTctl = nc_read(directory2[i])\n",
    "    avgCLTwfp = CLTwfp.mean(dim='time')\n",
    "    avgCLTctl = CLTctl.mean(dim='time')\n",
    "    diffCLT = avgCLTwfp - avgCLTctl\n",
    "    plt.pcolormesh(diffCLT.lon,diffCLT.lat,diffCLT.clt,cmap='Spectral_r',vmin=-0.07,vmax=0.07)\n",
    "    plt.colorbar()\n",
    "    plt.scatter(turbines.lon,turbines.lat,s=0.5,c='k',alpha=0.1)\n",
    "    plt.xlabel('Longitude(°)')\n",
    "    plt.ylabel('Latitude(°)')\n",
    "    plt.title('The difference of total cloud area fraction')\n",
    "    plt.xlim(3.3,10.3)\n",
    "    plt.ylim(53,56.6)\n",
    "#     plt.savefig('CLL.jpg',dpi=300) #save the figure\n",
    "    plt.show()"
   ]
  },
  {
   "cell_type": "markdown",
   "id": "dd925c83",
   "metadata": {},
   "source": [
    "# Quantitative approach"
   ]
  },
  {
   "cell_type": "markdown",
   "id": "2ed6262a",
   "metadata": {},
   "source": [
    "## Using mask for calculating difference in CLT"
   ]
  },
  {
   "cell_type": "markdown",
   "id": "a1b429b2",
   "metadata": {},
   "source": [
    "#### Kwantitatief verschil bepalen in CLT voor een windmolen van type 900 en 901"
   ]
  },
  {
   "cell_type": "code",
   "execution_count": null,
   "id": "f9c10103",
   "metadata": {},
   "outputs": [],
   "source": [
    "#Opening the mask, since the mask is saved in a netCDF file\n",
    "#Importing the mask of wind turbines 900 and 901\n",
    "directory_mask = \"C:/Users/esmer/OneDrive/TN jaar 3/BEP/mask_type900901.nc\"\n",
    "mask_type900901 = nc_read(directory_mask)"
   ]
  },
  {
   "cell_type": "code",
   "execution_count": null,
   "id": "4d50531c",
   "metadata": {},
   "outputs": [],
   "source": [
    "#We gaan voor 4 verschillende seizoenen bepalen wat het gemiddelde verschil in CLT is tussen CTL en WFP\n",
    "CLT = []\n",
    "for i in range(4): \n",
    "    CLTwfp = nc_read(directory1[i])\n",
    "    CLTctl = nc_read(directory2[i])\n",
    "    avgCLTwfp = CLTwfp.mean(dim=\"time\")\n",
    "    avgCLTctl = CLTctl.mean(dim=\"time\")\n",
    "    diffCLT = avgCLTwfp - avgCLTctl\n",
    "    diff = diffCLT.clt.values*mask_type900901.__xarray_dataarray_variable__.values\n",
    "    sumCLT = np.sum(diff)\n",
    "    sumturbines = np.sum(mask_type900901.__xarray_dataarray_variable__.values)\n",
    "    avgdiffCLT = sumCLT/sumturbines\n",
    "    CLT = np.append(CLT,avgdiffCLT)    \n",
    "print(CLT)"
   ]
  },
  {
   "cell_type": "markdown",
   "id": "47f9d2e3",
   "metadata": {},
   "source": [
    "## Calculating total difference in CLT "
   ]
  },
  {
   "cell_type": "code",
   "execution_count": null,
   "id": "8e72417d",
   "metadata": {},
   "outputs": [],
   "source": [
    "CLTavg=[]\n",
    "for i in range(4):\n",
    "    CLTwfp = nc_read(directory1[i])\n",
    "    CLTctl = nc_read(directory2[i])\n",
    "    avgCLTwfp = CLTwfp.mean(dim='time')\n",
    "    avgCLTctl = CLTctl.mean(dim='time')\n",
    "    diffCLT = avgCLTwfp - avgCLTctl\n",
    "    sumclt = np.sum(diffCLT.clt.values) #Sum of the low cloud area fraction between wfp and ctl\n",
    "    gridpoints = np.ones([146,166]) #The amount of grid points\n",
    "    sumgridpoints = np.sum(gridpoints)\n",
    "    avgclt = sumclt/sumgridpoints\n",
    "    CLTavg=np.append(CLTavg,avgclt)\n",
    "    \n",
    "print(CLTavg)"
   ]
  },
  {
   "cell_type": "code",
   "execution_count": null,
   "id": "28e8dae3",
   "metadata": {},
   "outputs": [],
   "source": [
    "np.mean(CLTavg)"
   ]
  },
  {
   "cell_type": "code",
   "execution_count": null,
   "id": "090f0e9e",
   "metadata": {},
   "outputs": [],
   "source": [
    "CLTsea = []\n",
    "for i in range(4): \n",
    "    CLTwfp = nc_read(directory1[i])\n",
    "    CLTctl = nc_read(directory2[i])\n",
    "    avgCLTwfp = CLTwfp.mean(dim=\"time\")\n",
    "    avgCLTctl = CLTctl.mean(dim=\"time\")\n",
    "    diffCLT = avgCLTwfp - avgCLTctl\n",
    "    diff = diffCLT.clt.values*mask_sea.__xarray_dataarray_variable__.values\n",
    "    sumCLT = np.sum(diff)\n",
    "    sumturbines = np.sum(mask_sea.__xarray_dataarray_variable__.values)\n",
    "    avgdiffCLT = sumCLT/sumturbines\n",
    "    CLT = np.append(CLT,avgdiffCLT)    \n",
    "print(CLT)"
   ]
  }
 ],
 "metadata": {
  "kernelspec": {
   "display_name": "Python 3 (ipykernel)",
   "language": "python",
   "name": "python3"
  },
  "language_info": {
   "codemirror_mode": {
    "name": "ipython",
    "version": 3
   },
   "file_extension": ".py",
   "mimetype": "text/x-python",
   "name": "python",
   "nbconvert_exporter": "python",
   "pygments_lexer": "ipython3",
   "version": "3.10.4"
  }
 },
 "nbformat": 4,
 "nbformat_minor": 5
}

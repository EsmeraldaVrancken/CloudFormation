{
 "cells": [
  {
   "cell_type": "markdown",
   "id": "36596db7",
   "metadata": {},
   "source": [
    "# Mask windfarms"
   ]
  },
  {
   "cell_type": "markdown",
   "id": "3ca65164",
   "metadata": {},
   "source": [
    "#### Import packages"
   ]
  },
  {
   "cell_type": "code",
   "execution_count": null,
   "id": "9e139e09",
   "metadata": {},
   "outputs": [],
   "source": [
    "#Import packages\n",
    "import cartopy.crs as ccrs\n",
    "import cartopy.feature as cfeature\n",
    "import matplotlib.pyplot as plt\n",
    "import numpy as np\n",
    "import xarray as xr\n",
    "import tarfile\n",
    "import io\n",
    "import csv\n",
    "import pandas as pd\n",
    "# import regionmask\n",
    "# import netCDF4\n",
    "# import h5netcdf\n",
    "# import glob"
   ]
  },
  {
   "cell_type": "markdown",
   "id": "51e80680",
   "metadata": {},
   "source": [
    "#### Website for calculation of difference in latitude and longitude"
   ]
  },
  {
   "cell_type": "markdown",
   "id": "a29b3be1",
   "metadata": {},
   "source": [
    "https://stackoverflow.com/questions/7477003/calculating-new-longitude-latitude-from-old-n-meters"
   ]
  },
  {
   "cell_type": "markdown",
   "id": "75868796",
   "metadata": {},
   "source": [
    "#### Functions to read the data (turbines and parameters)"
   ]
  },
  {
   "cell_type": "code",
   "execution_count": null,
   "id": "c3650969",
   "metadata": {},
   "outputs": [],
   "source": [
    "#Function to read (csv) data file\n",
    "def read_data(filename):\n",
    "    headers = ['lon','lat','type','r','z']\n",
    "    df = pd.read_csv(filename,skiprows=1,names= headers,delim_whitespace=True)\n",
    "    return df"
   ]
  },
  {
   "cell_type": "code",
   "execution_count": null,
   "id": "4430db0c",
   "metadata": {},
   "outputs": [],
   "source": [
    "#Function to read (nc) data file\n",
    "def nc_read(directory):\n",
    "    data = xr.open_mfdataset(directory)\n",
    "    return data"
   ]
  },
  {
   "cell_type": "markdown",
   "id": "875d89e6",
   "metadata": {},
   "source": [
    "#### Data coordinates"
   ]
  },
  {
   "cell_type": "code",
   "execution_count": null,
   "id": "afee2d9a",
   "metadata": {},
   "outputs": [],
   "source": [
    "#Read data from the coordinates of the wind turbines\n",
    "turbines = read_data('E:\\data\\wind_turbine_coordinates_2020_2050.tab')\n",
    "print(turbines.type)"
   ]
  },
  {
   "cell_type": "code",
   "execution_count": null,
   "id": "9ca265d3",
   "metadata": {},
   "outputs": [],
   "source": [
    "#The CLT of January without wind turbines\n",
    "directory = \"E:/data/transfer_1722109_files_fe942ebb/CLT/clt.his.GERMAN_BIGHT.WINS50_43h21_fERA5_CTL_ptA.20200101.1hr.nc\"\n",
    "data = nc_read(directory)"
   ]
  },
  {
   "cell_type": "markdown",
   "id": "59410f72",
   "metadata": {},
   "source": [
    "## Xarray mask maken"
   ]
  },
  {
   "cell_type": "markdown",
   "id": "e31196f1",
   "metadata": {},
   "source": [
    "#### Function to determine whether there is a turbine in the grid point"
   ]
  },
  {
   "cell_type": "markdown",
   "id": "a3c85200",
   "metadata": {},
   "source": [
    "The function below is a for loop that runs over all the turbines and calculates the longitudes and latitudes. The input is the boundaries of the grid points and the function determines whether in the grid points there is a wind turbine. The function returns a 0 when there is no windturbine and a 1 when there is. "
   ]
  },
  {
   "cell_type": "code",
   "execution_count": null,
   "id": "c22729fc",
   "metadata": {},
   "outputs": [],
   "source": [
    "def bool_turbine(lowlat,highlat,leftlon,rightlon):\n",
    "    windturbine = 0\n",
    "    if turbines_filtered[turbines_filtered['lat'].between(lowlat, highlat) & turbines_filtered['lon'].between(leftlon, rightlon)].shape[0] > 0:\n",
    "        return 1\n",
    "    return 0"
   ]
  },
  {
   "cell_type": "markdown",
   "id": "cb1d0750",
   "metadata": {},
   "source": [
    "# Mask type 900 and 901"
   ]
  },
  {
   "cell_type": "code",
   "execution_count": null,
   "id": "a7e7a4b8",
   "metadata": {
    "scrolled": true
   },
   "outputs": [],
   "source": [
    "#Read data from the coordinates of the wind turbines\n",
    "turbines = read_data('E:\\data\\wind_turbine_coordinates_2020_2050.tab')\n",
    "# turbines_filtered = turbines[turbines[\"type\"] == 901]\n",
    "turbines_filtered = turbines[(turbines['type']==900)|(turbines['type']==901)]\n",
    "\n",
    "#The CLT without wind turbines\n",
    "directory = \"E:/data/transfer_1722109_files_fe942ebb/CLT/clt.his.GERMAN_BIGHT.WINS50_43h21_fERA5_CTL_ptA.20200101.1hr.nc\"\n",
    "data = nc_read(directory)\n",
    "\n",
    "def bool_turbine(lowlat,highlat,leftlon,rightlon):\n",
    "    windturbine = 0\n",
    "    if turbines_filtered[turbines_filtered['lat'].between(lowlat, highlat) & turbines_filtered['lon'].between(leftlon, rightlon)].shape[0] > 0:\n",
    "        return 1\n",
    "    return 0\n",
    "\n",
    "#The data for the mask\n",
    "turbinemask = np.zeros(data.lat.values.shape)\n",
    "for i in range(int(data.lat.values.shape[0])): #The y value of lon and lat\n",
    "    for j in range(int(data.lat.values.shape[1])): #The x value of lon and lat\n",
    "        leftlon = data.lon.values[i][j] - (1250/6371229.0)*(180/np.pi)/np.cos(data.lat.values[i][j]*(np.pi/180)) #Left boundary of longitude\n",
    "        rightlon = data.lon.values[i][j] + (1250/6371229.0)*(180/np.pi)/np.cos(data.lat.values[i][j]*(np.pi/180)) #Right boundary of longitude\n",
    "        lowlat = data.lat.values[i][j] - (1250/6371229.0)*(180/np.pi) #Lower boundary of latitude\n",
    "        highlat = data.lat.values[i][j] + (1250/6371229.0)*(180/np.pi) #Higher boundary of latitude\n",
    "        windturbine = bool_turbine(lowlat,highlat,leftlon,rightlon)\n",
    "        turbinemask[i][j] = windturbine\n",
    "        \n",
    "#The xarray mask\n",
    "mask = xr.DataArray(\n",
    "    turbinemask,\n",
    "    coords={\"lon\": ([\"y\", \"x\"], data.lon.values), \"lat\": ([\"y\", \"x\"], data.lat.values)},\n",
    "    dims = [\"y\", \"x\"]\n",
    ")\n",
    "\n",
    "mask"
   ]
  },
  {
   "cell_type": "markdown",
   "id": "9a0c8939",
   "metadata": {},
   "source": [
    "#### Save the mask in a netCDF"
   ]
  },
  {
   "cell_type": "code",
   "execution_count": null,
   "id": "0c29ce23",
   "metadata": {},
   "outputs": [],
   "source": [
    "#Save the xarray to netCDF\n",
    "mask.to_netcdf(\"mask_type900901.nc\")"
   ]
  },
  {
   "cell_type": "markdown",
   "id": "29f0c018",
   "metadata": {},
   "source": [
    "## Plotting the mask"
   ]
  },
  {
   "cell_type": "markdown",
   "id": "d1b14d30",
   "metadata": {},
   "source": [
    "A plot of the mask and the turbines. If the values of the mask correspond to the coordinates of the turbines, the mask works."
   ]
  },
  {
   "cell_type": "code",
   "execution_count": null,
   "id": "82cd9bec",
   "metadata": {},
   "outputs": [],
   "source": [
    "#Plot of the mask and turbines\n",
    "directory_mask = \"C:/Users/esmer/OneDrive/TN jaar 3/BEP/mask.nc\"\n",
    "mask = nc_read(directory_mask)\n",
    "# print(mask.lon.shape)\n",
    "# print(mask.lat.shape)\n",
    "# print(mask.__xarray_dataarray_variable__)\n",
    "\n",
    "directory_mask_type900901 = \"C:/Users/esmer/OneDrive/TN jaar 3/BEP/mask_type900901.nc\"\n",
    "mask_type900901 = nc_read(directory_mask_type900901)\n",
    "\n",
    "plt.scatter(turbines.lon,turbines.lat,s=0.5,c='lightblue',alpha=0.5)\n",
    "plt.scatter(mask_type900901.lon, mask_type900901.lat, mask_type900901.__xarray_dataarray_variable__,c='k')\n",
    "\n",
    "plt.xlabel('Longitude(°)')\n",
    "plt.ylabel('Latitude(°)')\n",
    "# plt.title('Check whether the mask works')\n",
    "plt.xlim(3.3,10.3)\n",
    "plt.ylim(53,56.6)\n",
    "plt.savefig('Mask',dpi=300) #save the figure\n",
    "plt.show()"
   ]
  },
  {
   "cell_type": "markdown",
   "id": "2741a93b",
   "metadata": {},
   "source": [
    "# Mask voor totaal aantal windturbines op zee"
   ]
  },
  {
   "cell_type": "code",
   "execution_count": null,
   "id": "15cdba6d",
   "metadata": {},
   "outputs": [],
   "source": [
    "#Read data from the coordinates of the wind turbines\n",
    "turbines = read_data('E:\\data\\wind_turbine_coordinates_2020_2050.tab')\n",
    "# turbines_filtered = turbines[turbines[\"type\"] == 901]\n",
    "turbines_filtered = turbines[turbines['type']!=999]\n",
    "# turbines_filtered = turbines\n",
    "\n",
    "#The CLT without wind turbines\n",
    "directory = \"E:/data/transfer_1722109_files_fe942ebb/CLT/clt.his.GERMAN_BIGHT.WINS50_43h21_fERA5_CTL_ptA.20200103.1hr.nc\"\n",
    "data = nc_read(directory)\n",
    "\n",
    "def bool_turbine(lowlat,highlat,leftlon,rightlon):\n",
    "    windturbine = 0\n",
    "    if turbines_filtered[turbines_filtered['lat'].between(lowlat, highlat) & turbines_filtered['lon'].between(leftlon, rightlon)].shape[0] > 0:\n",
    "        return 1\n",
    "    return 0\n",
    "\n",
    "#The data for the mask\n",
    "turbinemask = np.zeros(data.lat.values.shape)\n",
    "for i in range(int(data.lat.values.shape[0])): #The y value of lon and lat\n",
    "    for j in range(int(data.lat.values.shape[1])): #The x value of lon and lat\n",
    "        leftlon = data.lon.values[i][j] - (1250/6371229.0)*(180/np.pi)/np.cos(data.lat.values[i][j]*(np.pi/180)) #Left boundary of longitude\n",
    "        rightlon = data.lon.values[i][j] + (1250/6371229.0)*(180/np.pi)/np.cos(data.lat.values[i][j]*(np.pi/180)) #Right boundary of longitude\n",
    "        lowlat = data.lat.values[i][j] - (1250/6371229.0)*(180/np.pi) #Lower boundary of latitude\n",
    "        highlat = data.lat.values[i][j] + (1250/6371229.0)*(180/np.pi) #Higher boundary of latitude\n",
    "        windturbine = bool_turbine(lowlat,highlat,leftlon,rightlon)\n",
    "        turbinemask[i][j] = windturbine\n",
    "        \n",
    "#The xarray mask\n",
    "masksea = xr.DataArray(\n",
    "    turbinemask,\n",
    "    coords={\"lon\": ([\"y\", \"x\"], data.lon.values), \"lat\": ([\"y\", \"x\"], data.lat.values)},\n",
    "    dims = [\"y\", \"x\"]\n",
    ")\n",
    "\n",
    "masksea"
   ]
  },
  {
   "cell_type": "code",
   "execution_count": null,
   "id": "b738c1b0",
   "metadata": {},
   "outputs": [],
   "source": [
    "np.sum(masksea.values)"
   ]
  },
  {
   "cell_type": "code",
   "execution_count": null,
   "id": "beb99bf8",
   "metadata": {},
   "outputs": [],
   "source": [
    "#Plot of the mask and turbines\n",
    "plt.scatter(turbines.lon,turbines.lat,s=0.5,c='violet',alpha=0.5)\n",
    "plt.scatter(masksea.lon, masksea.lat, masksea.values,c='k')\n",
    "plt.xlabel('Longitude(°)')\n",
    "plt.ylabel('Latitude(°)')\n",
    "plt.title('Check whether the mask works')\n",
    "plt.xlim(3.3,10.3)\n",
    "plt.ylim(53,56.6)\n",
    "#plt.savefig('Mask',dpi=300) #save the figure\n",
    "plt.show()"
   ]
  },
  {
   "cell_type": "code",
   "execution_count": null,
   "id": "f1cd6f25",
   "metadata": {},
   "outputs": [],
   "source": [
    "#Save the xarray to netCDF\n",
    "masksea.to_netcdf(\"masksea.nc\")"
   ]
  },
  {
   "cell_type": "code",
   "execution_count": null,
   "id": "bf11e2d0",
   "metadata": {},
   "outputs": [],
   "source": [
    "turbines\n",
    "np.min(turbines.lon.values)\n",
    "turbines_filtered = turbines[turbines['lat'].between(54, 54.3) & turbines['lon'].between(3, 4.5)]"
   ]
  },
  {
   "cell_type": "markdown",
   "id": "8fa42ecd",
   "metadata": {},
   "source": [
    "## Mask voor specifieke wind farm"
   ]
  },
  {
   "cell_type": "code",
   "execution_count": null,
   "id": "24616f9e",
   "metadata": {},
   "outputs": [],
   "source": [
    "turbines_filtered = turbines[turbines['lat'].between(54, 54.3) & turbines['lon'].between(3, 4.5)]"
   ]
  },
  {
   "cell_type": "code",
   "execution_count": null,
   "id": "203899a9",
   "metadata": {},
   "outputs": [],
   "source": [
    "def bool_turbine(lowlat,highlat,leftlon,rightlon):\n",
    "    windturbine = 0\n",
    "    if turbines_filtered[turbines_filtered['lat'].between(lowlat, highlat) & turbines_filtered['lon'].between(leftlon, rightlon)].shape[0] > 0:\n",
    "        return 1\n",
    "    return 0\n",
    "\n",
    "#The data for the mask\n",
    "turbinemask = np.zeros(data.lat.values.shape)\n",
    "for i in range(int(data.lat.values.shape[0])): #The y value of lon and lat\n",
    "    for j in range(int(data.lat.values.shape[1])): #The x value of lon and lat\n",
    "        leftlon = data.lon.values[i][j] - (1250/6371229.0)*(180/np.pi)/np.cos(data.lat.values[i][j]*(np.pi/180)) #Left boundary of longitude\n",
    "        rightlon = data.lon.values[i][j] + (1250/6371229.0)*(180/np.pi)/np.cos(data.lat.values[i][j]*(np.pi/180)) #Right boundary of longitude\n",
    "        lowlat = data.lat.values[i][j] - (1250/6371229.0)*(180/np.pi) #Lower boundary of latitude\n",
    "        highlat = data.lat.values[i][j] + (1250/6371229.0)*(180/np.pi) #Higher boundary of latitude\n",
    "        windturbine = bool_turbine(lowlat,highlat,leftlon,rightlon)\n",
    "        turbinemask[i][j] = windturbine\n",
    "        \n",
    "#The xarray mask\n",
    "maskwindfarm = xr.DataArray(\n",
    "    turbinemask,\n",
    "    coords={\"lon\": ([\"y\", \"x\"], data.lon.values), \"lat\": ([\"y\", \"x\"], data.lat.values)},\n",
    "    dims = [\"y\", \"x\"]\n",
    ")\n",
    "\n",
    "maskwindfarm"
   ]
  },
  {
   "cell_type": "code",
   "execution_count": null,
   "id": "21d37f27",
   "metadata": {},
   "outputs": [],
   "source": [
    "#Plot of the mask and turbines\n",
    "plt.scatter(maskwindfarm.lon, maskwindfarm.lat, maskwindfarm.values,c='k')\n",
    "plt.scatter(turbines.lon,turbines.lat,s=0.5,c='violet',alpha=0.5)\n",
    "plt.xlabel('Longitude(°)')\n",
    "plt.ylabel('Latitude(°)')\n",
    "plt.title('Check whether the mask works')\n",
    "plt.xlim(3.3,10.3)\n",
    "plt.ylim(53,56.6)\n",
    "#plt.savefig('Mask',dpi=300) #save the figure\n",
    "plt.show()"
   ]
  },
  {
   "cell_type": "code",
   "execution_count": null,
   "id": "f00fbee9",
   "metadata": {},
   "outputs": [],
   "source": [
    "#Save the xarray to netCDF\n",
    "maskwindfarm.to_netcdf(\"maskwindfarm.nc\")"
   ]
  }
 ],
 "metadata": {
  "kernelspec": {
   "display_name": "Python 3 (ipykernel)",
   "language": "python",
   "name": "python3"
  },
  "language_info": {
   "codemirror_mode": {
    "name": "ipython",
    "version": 3
   },
   "file_extension": ".py",
   "mimetype": "text/x-python",
   "name": "python",
   "nbconvert_exporter": "python",
   "pygments_lexer": "ipython3",
   "version": "3.10.4"
  }
 },
 "nbformat": 4,
 "nbformat_minor": 5
}
